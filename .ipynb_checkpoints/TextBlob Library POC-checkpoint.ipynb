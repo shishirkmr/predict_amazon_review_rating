{
 "cells": [
  {
   "cell_type": "code",
   "execution_count": 1,
   "metadata": {},
   "outputs": [],
   "source": [
    "#Import pandas\n",
    "import pandas as pd\n",
    "import numpy as np\n",
    "import nltk\n",
    "from nltk import sent_tokenize\n",
    "from textblob import TextBlob\n",
    "from textblob import Word\n",
    "from nltk import ngrams\n",
    "#import plots\n",
    "import matplotlib.pyplot as plt\n",
    "import seaborn as sns\n",
    "from gensim.models import Phrases\n",
    "from gensim.models.phrases import Phraser\n",
    "import gensim.models.keyedvectors as word2vec\n",
    "\n",
    "%matplotlib inline"
   ]
  },
  {
   "cell_type": "code",
   "execution_count": null,
   "metadata": {},
   "outputs": [],
   "source": []
  },
  {
   "cell_type": "code",
   "execution_count": 2,
   "metadata": {},
   "outputs": [],
   "source": [
    "s0 = \"Good looking average product by Honor. For 2000 bucks, it is really a good option to buy. Easy to use and looks durable\"\n",
    "s1 = \"Among the best premium wireless headphones. Must buy-product.\"\n",
    "s2 = \"No refund received for microwave oven, delivery guys was quite ignorant to our complaints and queries.\"\n",
    "s3 = \"Very bad experience with the router. Cables are completely damaged.\"\n",
    "s4 = \"Purchased the product based on Mi Brand. Product proves to be a disappointment. Worst Led TV in the market.Pathetic after sales service.\"\n",
    "s5 = \"This earbuds are awesome. Completely value for money.\""
   ]
  },
  {
   "cell_type": "code",
   "execution_count": 3,
   "metadata": {},
   "outputs": [],
   "source": [
    "rev_list = [s0,s1,s2,s3,s4,s5]\n",
    "new_list = []\n",
    "for i in rev_list:\n",
    "    new_list.append(i)\n",
    "sample = pd.DataFrame(new_list, columns = ['reviews'])\n",
    "sample['ratings'] = [1,1,0,0,0,1]"
   ]
  },
  {
   "cell_type": "code",
   "execution_count": 27,
   "metadata": {},
   "outputs": [],
   "source": [
    "#documents = [\"the mayor of new york was there\", \"machine learning can be useful sometimes\"]\n",
    "#Usage of gensim in bigram and trigrams\n",
    "\n",
    "def make_bigrams(col):\n",
    "    sent = [doc.split(\" \") for doc in col]\n",
    "    bigram = gensim.models.phrases.Phrases(sent, min_count=1, threshold=1)\n",
    "    corpus = [topic for topic in bigram[sent]]\n",
    "    return corpus\n",
    "\n",
    "def make_trigrams(col):\n",
    "    sent = [doc.split(\" \") for doc in col]\n",
    "    trigram = gensim.models.phrases.Phrases(bigram[sent], threshold=2)\n",
    "    corpus = [topic for topic in bigram[sent]]\n",
    "    return corpus\n"
   ]
  },
  {
   "cell_type": "code",
   "execution_count": 30,
   "metadata": {},
   "outputs": [],
   "source": [
    "\n",
    "\n"
   ]
  },
  {
   "cell_type": "code",
   "execution_count": null,
   "metadata": {},
   "outputs": [],
   "source": [
    "def detect_polarity(col):\n",
    "    return TextBlob(col).sentiment.polarity\n",
    "def detect_subjectivity(col):\n",
    "    return TextBlob(col).sentiment.subjectivity\n",
    "def get_lemma(col):\n",
    "    lemma_list = []\n",
    "    text = TextBlob(col).words\n",
    "    for item in text:\n",
    "        lemma = Word(item).lemmatize()\n",
    "        lemma_list.append(lemma)\n",
    "    return lemma_list\n",
    "def detect_sentence_polarity(col):\n",
    "    scores = []\n",
    "    for sentences in TextBlob(col).sentences:\n",
    "        score = np.round(sentences.sentiment.polarity,2)\n",
    "        scores.append(score)\n",
    "    return scores\n",
    "def sentence_count(col_name, sign = 'total'):\n",
    "    count_list = []\n",
    "    for reviews in col_name:\n",
    "        total_count = len(sent_tokenize(reviews))\n",
    "        if sign == 'total':\n",
    "            count_list.append(total_count)\n",
    "        else:\n",
    "            count = 0\n",
    "            for sentence in sent_tokenize(reviews):\n",
    "                polarity = TextBlob(sentence).sentiment.polarity\n",
    "                if sign == 'positive' and polarity >= 0 :\n",
    "                    count += 1\n",
    "                elif sign == 'negative' and polarity <0 :\n",
    "                    count += 1\n",
    "            count_list.append(count)\n",
    "    return count_list \n",
    "\n",
    "def calc_percentage(col_name, sign = 'positive'):\n",
    "    count_list = []\n",
    "    for reviews in col_name:\n",
    "        total_count = len(sent_tokenize(reviews))\n",
    "        count = 0\n",
    "        for sentence in sent_tokenize(reviews):\n",
    "            polarity = TextBlob(sentence).sentiment.polarity\n",
    "            if sign == 'positive' and polarity >= 0 :\n",
    "                count += 1\n",
    "            elif sign == 'negative' and polarity <0 :\n",
    "                count += 1\n",
    "            percent = np.round((count/total_count)*100)\n",
    "        count_list.append(percent)\n",
    "    return count_list\n",
    "\n",
    "def negative_boolean(col):\n",
    "    value = 0\n",
    "    value_list = []\n",
    "    for sentence in col:\n",
    "        polarity = detect_polarity(sentence)\n",
    "        if polarity >= 0:\n",
    "            value = 0\n",
    "        else: \n",
    "            value = 1\n",
    "        value_list.append(value)\n",
    "    return value_list\n",
    "\n",
    "filter_method = lambda x:'Highly Positive' if x >= 0.5 else 'Fairly Positive' if (x > 0 and x < 0.5) else 'Highly Negative' if x <= -0.5 else 'Fairly Negative' if (x > -0.5 and x < 0) else 'Neutral'"
   ]
  },
  {
   "cell_type": "code",
   "execution_count": null,
   "metadata": {},
   "outputs": [],
   "source": [
    "sample['polarity'] = round(sample.reviews.apply(detect_polarity),1)\n",
    "sample['subjectivity'] = round(sample.reviews.apply(detect_subjectivity),1)\n",
    "sample['sentiment'] = sample['polarity'].apply(filter_method)\n",
    "sample['sentence_sentiment'] = sample.reviews.apply(detect_sentence_polarity)\n",
    "sample['lemma'] = sample.reviews.apply(get_lemma)\n",
    "sample['#positive_sentences']= sentence_count(sample['reviews'], 'positive')\n",
    "sample['#negative_sentences'] = sentence_count(sample['reviews'], 'negative')\n",
    "sample['% positive_sentences'] = calc_percentage(sample['reviews'], 'positive')\n",
    "sample['% negative_sentences'] = calc_percentage(sample['reviews'], 'negative')\n",
    "sample['negation_or_not'] = negative_boolean(sample['reviews'])\n",
    "sample.head(6)"
   ]
  },
  {
   "cell_type": "markdown",
   "metadata": {},
   "source": [
    "Polarity is float which lies within range of [-1,1]. Values closer to 1 have a highly positive sentiment and values closer to -1 have highly negative sentiment. Values closer to 0 on the either sides shows slighty positive and negative indication.\n",
    "\n",
    "Similarly, subjective sentences refer to personal opinion, emotion or judgement whereas objective refers to facts. Subjectivity is also a float which lies in the range of [0,1]"
   ]
  },
  {
   "cell_type": "code",
   "execution_count": null,
   "metadata": {},
   "outputs": [],
   "source": [
    "sample.sentiment.value_counts()"
   ]
  },
  {
   "cell_type": "markdown",
   "metadata": {},
   "source": [
    "num_bins = 50\n",
    "plt.figure(figsize=(10,6))\n",
    "n, bins, patches = plt.hist(sample.sentiment, num_bins, facecolor='blue', alpha=0.5)\n",
    "plt.xlabel('Polarity')\n",
    "plt.ylabel('Count')\n",
    "plt.title('Histogram of polarity')\n",
    "plt.show()"
   ]
  },
  {
   "cell_type": "code",
   "execution_count": null,
   "metadata": {},
   "outputs": [],
   "source": [
    "sns.countplot(x='sentiment', data=sample);"
   ]
  },
  {
   "cell_type": "code",
   "execution_count": null,
   "metadata": {},
   "outputs": [],
   "source": []
  },
  {
   "cell_type": "code",
   "execution_count": null,
   "metadata": {},
   "outputs": [],
   "source": []
  },
  {
   "cell_type": "code",
   "execution_count": null,
   "metadata": {},
   "outputs": [],
   "source": []
  }
 ],
 "metadata": {
  "kernelspec": {
   "display_name": "Python 3",
   "language": "python",
   "name": "python3"
  },
  "language_info": {
   "codemirror_mode": {
    "name": "ipython",
    "version": 3
   },
   "file_extension": ".py",
   "mimetype": "text/x-python",
   "name": "python",
   "nbconvert_exporter": "python",
   "pygments_lexer": "ipython3",
   "version": "3.7.3"
  }
 },
 "nbformat": 4,
 "nbformat_minor": 2
}
