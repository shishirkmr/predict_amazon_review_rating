{
 "cells": [
  {
   "cell_type": "code",
   "execution_count": 52,
   "metadata": {},
   "outputs": [],
   "source": [
    "# filter warnings\n",
    "import warnings\n",
    "warnings.filterwarnings('ignore')\n",
    "\n",
    "#import plots\n",
    "import matplotlib.pyplot as plt\n",
    "import seaborn as sns\n",
    "%matplotlib inline\n",
    "\n",
    "import string\n",
    "import pandas as pd\n",
    "import numpy as np\n",
    "from sklearn.model_selection import train_test_split\n",
    "from sklearn.model_selection import cross_val_score\n",
    "from sklearn import metrics\n",
    "import nltk\n",
    "from nltk.corpus import stopwords\n",
    "from nltk.tokenize import sent_tokenize\n",
    "from nltk.tokenize import word_tokenize\n",
    "from nltk.tokenize import wordpunct_tokenize\n",
    "from nltk.stem.porter import PorterStemmer\n",
    "from nltk.stem.wordnet import WordNetLemmatizer\n",
    "\n",
    "\n",
    "from collections import Counter\n",
    "from nltk.probability import FreqDist\n",
    "\n",
    "from sklearn.linear_model import LogisticRegressionCV,LogisticRegression\n",
    "from sklearn.feature_extraction.text import CountVectorizer\n",
    "from sklearn.metrics import confusion_matrix\n",
    "from sklearn.metrics import roc_curve, auc\n"
   ]
  },
  {
   "cell_type": "code",
   "execution_count": 2,
   "metadata": {},
   "outputs": [
    {
     "data": {
      "text/html": [
       "<div>\n",
       "<style scoped>\n",
       "    .dataframe tbody tr th:only-of-type {\n",
       "        vertical-align: middle;\n",
       "    }\n",
       "\n",
       "    .dataframe tbody tr th {\n",
       "        vertical-align: top;\n",
       "    }\n",
       "\n",
       "    .dataframe thead th {\n",
       "        text-align: right;\n",
       "    }\n",
       "</style>\n",
       "<table border=\"1\" class=\"dataframe\">\n",
       "  <thead>\n",
       "    <tr style=\"text-align: right;\">\n",
       "      <th></th>\n",
       "      <th>asin</th>\n",
       "      <th>helpful</th>\n",
       "      <th>overall</th>\n",
       "      <th>reviewText</th>\n",
       "      <th>reviewTime</th>\n",
       "      <th>reviewerID</th>\n",
       "      <th>reviewerName</th>\n",
       "      <th>summary</th>\n",
       "      <th>unixReviewTime</th>\n",
       "    </tr>\n",
       "  </thead>\n",
       "  <tbody>\n",
       "    <tr>\n",
       "      <th>0</th>\n",
       "      <td>B00000JBLH</td>\n",
       "      <td>[3, 4]</td>\n",
       "      <td>5</td>\n",
       "      <td>I bought my first HP12C in about 1984 or so, a...</td>\n",
       "      <td>09 3, 2004</td>\n",
       "      <td>A32T2H8150OJLU</td>\n",
       "      <td>ARH</td>\n",
       "      <td>A solid performer, and long time friend</td>\n",
       "      <td>1094169600</td>\n",
       "    </tr>\n",
       "    <tr>\n",
       "      <th>1</th>\n",
       "      <td>B00000JBLH</td>\n",
       "      <td>[7, 9]</td>\n",
       "      <td>5</td>\n",
       "      <td>WHY THIS BELATED REVIEW? I feel very obliged t...</td>\n",
       "      <td>12 15, 2007</td>\n",
       "      <td>A3MAFS04ZABRGO</td>\n",
       "      <td>Let it Be \"Alan\"</td>\n",
       "      <td>Price of GOLD is up, so don't bury the golden ...</td>\n",
       "      <td>1197676800</td>\n",
       "    </tr>\n",
       "    <tr>\n",
       "      <th>2</th>\n",
       "      <td>B00000JBLH</td>\n",
       "      <td>[3, 3]</td>\n",
       "      <td>2</td>\n",
       "      <td>I have an HP 48GX that has been kicking for mo...</td>\n",
       "      <td>01 1, 2011</td>\n",
       "      <td>A1F1A0QQP2XVH5</td>\n",
       "      <td>Mark B</td>\n",
       "      <td>Good functionality, but not durable like old HPs</td>\n",
       "      <td>1293840000</td>\n",
       "    </tr>\n",
       "    <tr>\n",
       "      <th>3</th>\n",
       "      <td>B00000JBLH</td>\n",
       "      <td>[7, 8]</td>\n",
       "      <td>5</td>\n",
       "      <td>I've started doing more finance stuff recently...</td>\n",
       "      <td>04 19, 2006</td>\n",
       "      <td>A49R5DBXXQDE5</td>\n",
       "      <td>R. D Johnson</td>\n",
       "      <td>One of the last of an almost extinct species</td>\n",
       "      <td>1145404800</td>\n",
       "    </tr>\n",
       "    <tr>\n",
       "      <th>4</th>\n",
       "      <td>B00000JBLH</td>\n",
       "      <td>[0, 0]</td>\n",
       "      <td>5</td>\n",
       "      <td>For simple calculations and discounted cash fl...</td>\n",
       "      <td>08 4, 2013</td>\n",
       "      <td>A2XRMQA6PJ5ZJ8</td>\n",
       "      <td>Roger J. Buffington</td>\n",
       "      <td>Still the best</td>\n",
       "      <td>1375574400</td>\n",
       "    </tr>\n",
       "  </tbody>\n",
       "</table>\n",
       "</div>"
      ],
      "text/plain": [
       "         asin helpful  overall  \\\n",
       "0  B00000JBLH  [3, 4]        5   \n",
       "1  B00000JBLH  [7, 9]        5   \n",
       "2  B00000JBLH  [3, 3]        2   \n",
       "3  B00000JBLH  [7, 8]        5   \n",
       "4  B00000JBLH  [0, 0]        5   \n",
       "\n",
       "                                          reviewText   reviewTime  \\\n",
       "0  I bought my first HP12C in about 1984 or so, a...   09 3, 2004   \n",
       "1  WHY THIS BELATED REVIEW? I feel very obliged t...  12 15, 2007   \n",
       "2  I have an HP 48GX that has been kicking for mo...   01 1, 2011   \n",
       "3  I've started doing more finance stuff recently...  04 19, 2006   \n",
       "4  For simple calculations and discounted cash fl...   08 4, 2013   \n",
       "\n",
       "       reviewerID         reviewerName  \\\n",
       "0  A32T2H8150OJLU                  ARH   \n",
       "1  A3MAFS04ZABRGO     Let it Be \"Alan\"   \n",
       "2  A1F1A0QQP2XVH5               Mark B   \n",
       "3   A49R5DBXXQDE5         R. D Johnson   \n",
       "4  A2XRMQA6PJ5ZJ8  Roger J. Buffington   \n",
       "\n",
       "                                             summary  unixReviewTime  \n",
       "0            A solid performer, and long time friend      1094169600  \n",
       "1  Price of GOLD is up, so don't bury the golden ...      1197676800  \n",
       "2   Good functionality, but not durable like old HPs      1293840000  \n",
       "3       One of the last of an almost extinct species      1145404800  \n",
       "4                                     Still the best      1375574400  "
      ]
     },
     "execution_count": 2,
     "metadata": {},
     "output_type": "execute_result"
    }
   ],
   "source": [
    "data=pd.read_json('reviews_Office_Products_5.json',lines=True)\n",
    "\n",
    "data.head()"
   ]
  },
  {
   "cell_type": "code",
   "execution_count": 3,
   "metadata": {},
   "outputs": [
    {
     "data": {
      "text/html": [
       "<div>\n",
       "<style scoped>\n",
       "    .dataframe tbody tr th:only-of-type {\n",
       "        vertical-align: middle;\n",
       "    }\n",
       "\n",
       "    .dataframe tbody tr th {\n",
       "        vertical-align: top;\n",
       "    }\n",
       "\n",
       "    .dataframe thead th {\n",
       "        text-align: right;\n",
       "    }\n",
       "</style>\n",
       "<table border=\"1\" class=\"dataframe\">\n",
       "  <thead>\n",
       "    <tr style=\"text-align: right;\">\n",
       "      <th></th>\n",
       "      <th>reviewText</th>\n",
       "      <th>overall</th>\n",
       "    </tr>\n",
       "  </thead>\n",
       "  <tbody>\n",
       "    <tr>\n",
       "      <th>0</th>\n",
       "      <td>I bought my first HP12C in about 1984 or so, a...</td>\n",
       "      <td>5</td>\n",
       "    </tr>\n",
       "    <tr>\n",
       "      <th>1</th>\n",
       "      <td>WHY THIS BELATED REVIEW? I feel very obliged t...</td>\n",
       "      <td>5</td>\n",
       "    </tr>\n",
       "    <tr>\n",
       "      <th>2</th>\n",
       "      <td>I have an HP 48GX that has been kicking for mo...</td>\n",
       "      <td>2</td>\n",
       "    </tr>\n",
       "    <tr>\n",
       "      <th>3</th>\n",
       "      <td>I've started doing more finance stuff recently...</td>\n",
       "      <td>5</td>\n",
       "    </tr>\n",
       "    <tr>\n",
       "      <th>4</th>\n",
       "      <td>For simple calculations and discounted cash fl...</td>\n",
       "      <td>5</td>\n",
       "    </tr>\n",
       "  </tbody>\n",
       "</table>\n",
       "</div>"
      ],
      "text/plain": [
       "                                          reviewText overall\n",
       "0  I bought my first HP12C in about 1984 or so, a...       5\n",
       "1  WHY THIS BELATED REVIEW? I feel very obliged t...       5\n",
       "2  I have an HP 48GX that has been kicking for mo...       2\n",
       "3  I've started doing more finance stuff recently...       5\n",
       "4  For simple calculations and discounted cash fl...       5"
      ]
     },
     "execution_count": 3,
     "metadata": {},
     "output_type": "execute_result"
    }
   ],
   "source": [
    "# Data preprocessing\n",
    "data['overall'] = data['overall'].astype(object) # fix datatype error\n",
    "dataset = {\"reviewText\": data[\"reviewText\"], \"overall\": data[\"overall\"]  }\n",
    "dataset = pd.DataFrame(data = dataset)\n",
    "dataset = dataset.dropna()\n",
    "\n",
    "dataset.head()"
   ]
  },
  {
   "cell_type": "code",
   "execution_count": 4,
   "metadata": {},
   "outputs": [
    {
     "data": {
      "text/plain": [
       "reviewText    object\n",
       "overall       object\n",
       "dtype: object"
      ]
     },
     "execution_count": 4,
     "metadata": {},
     "output_type": "execute_result"
    }
   ],
   "source": [
    "dataset.dtypes"
   ]
  },
  {
   "cell_type": "code",
   "execution_count": 5,
   "metadata": {},
   "outputs": [
    {
     "data": {
      "text/plain": [
       "(48198, 2)"
      ]
     },
     "execution_count": 5,
     "metadata": {},
     "output_type": "execute_result"
    }
   ],
   "source": [
    "dataset['overall']=dataset['overall'].astype('int64')\n",
    "dataset = dataset[dataset[\"overall\"] != 3] # need datatype=object\n",
    "dataset.shape"
   ]
  },
  {
   "cell_type": "code",
   "execution_count": 6,
   "metadata": {},
   "outputs": [
    {
     "data": {
      "text/html": [
       "<div>\n",
       "<style scoped>\n",
       "    .dataframe tbody tr th:only-of-type {\n",
       "        vertical-align: middle;\n",
       "    }\n",
       "\n",
       "    .dataframe tbody tr th {\n",
       "        vertical-align: top;\n",
       "    }\n",
       "\n",
       "    .dataframe thead th {\n",
       "        text-align: right;\n",
       "    }\n",
       "</style>\n",
       "<table border=\"1\" class=\"dataframe\">\n",
       "  <thead>\n",
       "    <tr style=\"text-align: right;\">\n",
       "      <th></th>\n",
       "      <th>reviewText</th>\n",
       "      <th>overall</th>\n",
       "      <th>label</th>\n",
       "    </tr>\n",
       "  </thead>\n",
       "  <tbody>\n",
       "  </tbody>\n",
       "</table>\n",
       "</div>"
      ],
      "text/plain": [
       "Empty DataFrame\n",
       "Columns: [reviewText, overall, label]\n",
       "Index: []"
      ]
     },
     "execution_count": 6,
     "metadata": {},
     "output_type": "execute_result"
    }
   ],
   "source": [
    "dataset[\"label\"] = dataset[\"overall\"].apply(lambda x : 1 if x > 3 else 0)\n",
    "\n",
    "dataset[dataset[\"label\"].isnull()]"
   ]
  },
  {
   "cell_type": "code",
   "execution_count": 7,
   "metadata": {},
   "outputs": [
    {
     "data": {
      "text/html": [
       "<div>\n",
       "<style scoped>\n",
       "    .dataframe tbody tr th:only-of-type {\n",
       "        vertical-align: middle;\n",
       "    }\n",
       "\n",
       "    .dataframe tbody tr th {\n",
       "        vertical-align: top;\n",
       "    }\n",
       "\n",
       "    .dataframe thead th {\n",
       "        text-align: right;\n",
       "    }\n",
       "</style>\n",
       "<table border=\"1\" class=\"dataframe\">\n",
       "  <thead>\n",
       "    <tr style=\"text-align: right;\">\n",
       "      <th></th>\n",
       "      <th>reviewText</th>\n",
       "      <th>overall</th>\n",
       "      <th>label</th>\n",
       "    </tr>\n",
       "  </thead>\n",
       "  <tbody>\n",
       "    <tr>\n",
       "      <th>0</th>\n",
       "      <td>I bought my first HP12C in about 1984 or so, a...</td>\n",
       "      <td>5</td>\n",
       "      <td>1</td>\n",
       "    </tr>\n",
       "    <tr>\n",
       "      <th>1</th>\n",
       "      <td>WHY THIS BELATED REVIEW? I feel very obliged t...</td>\n",
       "      <td>5</td>\n",
       "      <td>1</td>\n",
       "    </tr>\n",
       "    <tr>\n",
       "      <th>2</th>\n",
       "      <td>I have an HP 48GX that has been kicking for mo...</td>\n",
       "      <td>2</td>\n",
       "      <td>0</td>\n",
       "    </tr>\n",
       "    <tr>\n",
       "      <th>3</th>\n",
       "      <td>I've started doing more finance stuff recently...</td>\n",
       "      <td>5</td>\n",
       "      <td>1</td>\n",
       "    </tr>\n",
       "    <tr>\n",
       "      <th>4</th>\n",
       "      <td>For simple calculations and discounted cash fl...</td>\n",
       "      <td>5</td>\n",
       "      <td>1</td>\n",
       "    </tr>\n",
       "  </tbody>\n",
       "</table>\n",
       "</div>"
      ],
      "text/plain": [
       "                                          reviewText  overall  label\n",
       "0  I bought my first HP12C in about 1984 or so, a...        5      1\n",
       "1  WHY THIS BELATED REVIEW? I feel very obliged t...        5      1\n",
       "2  I have an HP 48GX that has been kicking for mo...        2      0\n",
       "3  I've started doing more finance stuff recently...        5      1\n",
       "4  For simple calculations and discounted cash fl...        5      1"
      ]
     },
     "execution_count": 7,
     "metadata": {},
     "output_type": "execute_result"
    }
   ],
   "source": [
    "dataset.head()"
   ]
  },
  {
   "cell_type": "code",
   "execution_count": 8,
   "metadata": {},
   "outputs": [
    {
     "data": {
      "text/plain": [
       "1    45342\n",
       "0     2856\n",
       "Name: label, dtype: int64"
      ]
     },
     "execution_count": 8,
     "metadata": {},
     "output_type": "execute_result"
    }
   ],
   "source": [
    "dataset.label.value_counts()"
   ]
  },
  {
   "cell_type": "code",
   "execution_count": 9,
   "metadata": {},
   "outputs": [
    {
     "data": {
      "text/plain": [
       "5    30327\n",
       "4    15015\n",
       "2     1726\n",
       "1     1130\n",
       "Name: overall, dtype: int64"
      ]
     },
     "execution_count": 9,
     "metadata": {},
     "output_type": "execute_result"
    }
   ],
   "source": [
    "dataset.overall.value_counts()"
   ]
  },
  {
   "cell_type": "code",
   "execution_count": 10,
   "metadata": {},
   "outputs": [
    {
     "data": {
      "text/plain": [
       "0.05925557077057139"
      ]
     },
     "execution_count": 10,
     "metadata": {},
     "output_type": "execute_result"
    }
   ],
   "source": [
    "2856/(2856+45342)"
   ]
  },
  {
   "cell_type": "code",
   "execution_count": 11,
   "metadata": {},
   "outputs": [],
   "source": [
    "stop_words=set(stopwords.words(\"english\"))\n",
    "\n",
    "dataset['reviewText']=dataset['reviewText'].str.lower()\n",
    "\n",
    "dataset['sentence']=dataset['reviewText'].apply(lambda x: sent_tokenize(x))\n",
    "\n",
    "dataset['tokens']=dataset['reviewText'].apply(lambda x: word_tokenize(x))"
   ]
  },
  {
   "cell_type": "code",
   "execution_count": 12,
   "metadata": {},
   "outputs": [
    {
     "data": {
      "text/plain": [
       "['hey', '?']"
      ]
     },
     "execution_count": 12,
     "metadata": {},
     "output_type": "execute_result"
    }
   ],
   "source": [
    "def get_clean_token_list(words):\n",
    "    clean_words=[]\n",
    "    for word in words:\n",
    "        flag=True\n",
    "        for letter in word:\n",
    "            if letter.isdigit() or letter in string.punctuation:\n",
    "                flag=False\n",
    "        if flag:\n",
    "            clean_words.append(word)\n",
    "    return clean_words\n",
    "\n",
    "get_clean_token_list([\"hewy\",\"ho!w\",\"are\",\"yo6u\",\"?dd\",\"111\",\"qwerty\"])\n",
    "\n",
    "def remove_stopwords(words):\n",
    "    \"\"\"\n",
    "    pass series get series\n",
    "    \"\"\"\n",
    "    filtered_sent=[]\n",
    "    for word in words:\n",
    "        if word not in stop_words:\n",
    "            filtered_sent.append(word)\n",
    "    return filtered_sent\n",
    "\n",
    "\n",
    "remove_stopwords([\"hey\",\"how\",\"are\",\"you\",\"?\"])"
   ]
  },
  {
   "cell_type": "code",
   "execution_count": 13,
   "metadata": {},
   "outputs": [
    {
     "data": {
      "text/plain": [
       "0    [bought, first, hp12c, 1984, ,, served, faithf...\n",
       "1    [belated, review, ?, feel, obliged, share, vie...\n",
       "2    [hp, 48gx, kicking, twenty, years, hp, 11, 25,...\n",
       "3    ['ve, started, finance, stuff, recently, went,...\n",
       "4    [simple, calculations, discounted, cash, flows...\n",
       "Name: tokens, dtype: object"
      ]
     },
     "execution_count": 13,
     "metadata": {},
     "output_type": "execute_result"
    }
   ],
   "source": [
    "dataset['tokens']=dataset['tokens'].apply(remove_stopwords)\n",
    "\n",
    "dataset['tokens'].head()"
   ]
  },
  {
   "cell_type": "code",
   "execution_count": 14,
   "metadata": {
    "scrolled": true
   },
   "outputs": [
    {
     "data": {
      "text/plain": [
       "0    [bought, first, served, faithfully, lost, trav...\n",
       "1    [belated, review, feel, obliged, share, views,...\n",
       "2    [hp, kicking, twenty, years, hp, years, old, s...\n",
       "3    [started, finance, stuff, recently, went, look...\n",
       "4    [simple, calculations, discounted, cash, flows...\n",
       "Name: tokens, dtype: object"
      ]
     },
     "execution_count": 14,
     "metadata": {},
     "output_type": "execute_result"
    }
   ],
   "source": [
    "dataset['tokens']=dataset['tokens'].apply(get_clean_token_list)\n",
    "\n",
    "dataset['tokens'].head()"
   ]
  },
  {
   "cell_type": "code",
   "execution_count": 15,
   "metadata": {},
   "outputs": [],
   "source": [
    "#Lexicon Normalization\n",
    "#performing stemming and Lemmatization\n",
    "\n",
    "# from nltk.stem.wordnet import WordNetLemmatizer\n",
    "# lem = WordNetLemmatizer()\n",
    "\n",
    "# from nltk.stem.porter import PorterStemmer\n",
    "# stem = PorterStemmer()\n",
    "\n",
    "# word = \"troubled\"\n",
    "# print(\"Lemmatized Word:\",lem.lemmatize(word,\"v\"))\n",
    "# print(\"Stemmed Word:\",stem.stem(word))"
   ]
  },
  {
   "cell_type": "code",
   "execution_count": 16,
   "metadata": {},
   "outputs": [],
   "source": [
    "# text=\"\"\"Hello Mr. Smith, how are you doing today? The weather is great, and city is awesome.\n",
    "# The sky is pinkish-blue. You shouldn't eat cardboard\"\"\"\n",
    "# tokenized_sent=sent_tokenize(text)\n",
    "# print(tokenized_sent)\n",
    "\n",
    "# from nltk.tokenize import word_tokenize\n",
    "# tokenized_word=word_tokenize(text)\n",
    "# print(tokenized_word)"
   ]
  },
  {
   "cell_type": "code",
   "execution_count": 17,
   "metadata": {},
   "outputs": [],
   "source": [
    "stem = PorterStemmer()\n",
    "\n",
    "def stem_sentence(sentence):\n",
    "    stem_sentence=[]\n",
    "    for word in sentence:\n",
    "        stem_sentence.append(stem.stem(word))\n",
    "    return stem_sentence"
   ]
  },
  {
   "cell_type": "code",
   "execution_count": 18,
   "metadata": {},
   "outputs": [
    {
     "data": {
      "text/html": [
       "<div>\n",
       "<style scoped>\n",
       "    .dataframe tbody tr th:only-of-type {\n",
       "        vertical-align: middle;\n",
       "    }\n",
       "\n",
       "    .dataframe tbody tr th {\n",
       "        vertical-align: top;\n",
       "    }\n",
       "\n",
       "    .dataframe thead th {\n",
       "        text-align: right;\n",
       "    }\n",
       "</style>\n",
       "<table border=\"1\" class=\"dataframe\">\n",
       "  <thead>\n",
       "    <tr style=\"text-align: right;\">\n",
       "      <th></th>\n",
       "      <th>tokens</th>\n",
       "      <th>stem_sentence</th>\n",
       "    </tr>\n",
       "  </thead>\n",
       "  <tbody>\n",
       "    <tr>\n",
       "      <th>0</th>\n",
       "      <td>[bought, first, served, faithfully, lost, trav...</td>\n",
       "      <td>[bought, first, serv, faith, lost, travel, sea...</td>\n",
       "    </tr>\n",
       "    <tr>\n",
       "      <th>1</th>\n",
       "      <td>[belated, review, feel, obliged, share, views,...</td>\n",
       "      <td>[belat, review, feel, oblig, share, view, old,...</td>\n",
       "    </tr>\n",
       "    <tr>\n",
       "      <th>2</th>\n",
       "      <td>[hp, kicking, twenty, years, hp, years, old, s...</td>\n",
       "      <td>[hp, kick, twenti, year, hp, year, old, still,...</td>\n",
       "    </tr>\n",
       "    <tr>\n",
       "      <th>3</th>\n",
       "      <td>[started, finance, stuff, recently, went, look...</td>\n",
       "      <td>[start, financ, stuff, recent, went, look, goo...</td>\n",
       "    </tr>\n",
       "    <tr>\n",
       "      <th>4</th>\n",
       "      <td>[simple, calculations, discounted, cash, flows...</td>\n",
       "      <td>[simpl, calcul, discount, cash, flow, one, sti...</td>\n",
       "    </tr>\n",
       "    <tr>\n",
       "      <th>5</th>\n",
       "      <td>[mba, hard, believe, calculator, learned, use,...</td>\n",
       "      <td>[mba, hard, believ, calcul, learn, use, underg...</td>\n",
       "    </tr>\n",
       "    <tr>\n",
       "      <th>6</th>\n",
       "      <td>[hp, ever, since, first, available, roughly, t...</td>\n",
       "      <td>[hp, ever, sinc, first, avail, roughli, twenti...</td>\n",
       "    </tr>\n",
       "    <tr>\n",
       "      <th>7</th>\n",
       "      <td>[bought, boss, lost, loves, calculator, would,...</td>\n",
       "      <td>[bought, boss, lost, love, calcul, would, caug...</td>\n",
       "    </tr>\n",
       "    <tr>\n",
       "      <th>8</th>\n",
       "      <td>[simple, calculator, handles, typical, math, l...</td>\n",
       "      <td>[simpl, calcul, handl, typic, math, larg, easi...</td>\n",
       "    </tr>\n",
       "    <tr>\n",
       "      <th>9</th>\n",
       "      <td>[love, calculator, big, numbers, calculate, ex...</td>\n",
       "      <td>[love, calcul, big, number, calcul, excel, eas...</td>\n",
       "    </tr>\n",
       "  </tbody>\n",
       "</table>\n",
       "</div>"
      ],
      "text/plain": [
       "                                              tokens  \\\n",
       "0  [bought, first, served, faithfully, lost, trav...   \n",
       "1  [belated, review, feel, obliged, share, views,...   \n",
       "2  [hp, kicking, twenty, years, hp, years, old, s...   \n",
       "3  [started, finance, stuff, recently, went, look...   \n",
       "4  [simple, calculations, discounted, cash, flows...   \n",
       "5  [mba, hard, believe, calculator, learned, use,...   \n",
       "6  [hp, ever, since, first, available, roughly, t...   \n",
       "7  [bought, boss, lost, loves, calculator, would,...   \n",
       "8  [simple, calculator, handles, typical, math, l...   \n",
       "9  [love, calculator, big, numbers, calculate, ex...   \n",
       "\n",
       "                                       stem_sentence  \n",
       "0  [bought, first, serv, faith, lost, travel, sea...  \n",
       "1  [belat, review, feel, oblig, share, view, old,...  \n",
       "2  [hp, kick, twenti, year, hp, year, old, still,...  \n",
       "3  [start, financ, stuff, recent, went, look, goo...  \n",
       "4  [simpl, calcul, discount, cash, flow, one, sti...  \n",
       "5  [mba, hard, believ, calcul, learn, use, underg...  \n",
       "6  [hp, ever, sinc, first, avail, roughli, twenti...  \n",
       "7  [bought, boss, lost, love, calcul, would, caug...  \n",
       "8  [simpl, calcul, handl, typic, math, larg, easi...  \n",
       "9  [love, calcul, big, number, calcul, excel, eas...  "
      ]
     },
     "execution_count": 18,
     "metadata": {},
     "output_type": "execute_result"
    }
   ],
   "source": [
    "dataset['stem_sentence']=dataset['tokens'].apply(lambda x: stem_sentence(x))\n",
    "\n",
    "dataset[['tokens','stem_sentence']].head(10)"
   ]
  },
  {
   "cell_type": "code",
   "execution_count": 19,
   "metadata": {},
   "outputs": [
    {
     "data": {
      "text/plain": [
       "0        [(bought, VBD), (first, RB), (served, VBN), (f...\n",
       "1        [(belated, VBN), (review, NN), (feel, NN), (ob...\n",
       "2        [(hp, NN), (kicking, VBG), (twenty, CD), (year...\n",
       "3        [(started, VBN), (finance, NN), (stuff, NN), (...\n",
       "4        [(simple, JJ), (calculations, NNS), (discounte...\n",
       "5        [(mba, RB), (hard, JJ), (believe, VBP), (calcu...\n",
       "6        [(hp, NN), (ever, RB), (since, IN), (first, JJ...\n",
       "7        [(bought, VBN), (boss, NN), (lost, VBN), (love...\n",
       "8        [(simple, JJ), (calculator, NN), (handles, NNS...\n",
       "9        [(love, NN), (calculator, NN), (big, JJ), (num...\n",
       "10       [(mine, NN), (years, NNS), (use, VBP), (almost...\n",
       "11       [(need, NN), (calculator, NN), (prints, NNS), ...\n",
       "12       [(great, JJ), (basic, JJ), (calculator, NN), (...\n",
       "13       [(texas, JJ), (instruments, NNS), (makes, VBZ)...\n",
       "14       [(review, VB), (second, JJ), (version, NN), (c...\n",
       "15       [(well, RB), (built, VBN), (calculator, NN), (...\n",
       "16       [(texas, NN), (instruments, NNS), (solar, JJ),...\n",
       "17       [(take, VB), (math, NN), (senior, JJ), (year, ...\n",
       "18       [(good, JJ), (calculator, NN), (supposed, VBD)...\n",
       "19       [(amazon, NN), (totally, RB), (school, NN), (s...\n",
       "20       [(calculator, NN), (job, NN), (need, NN), (bat...\n",
       "21       [(outside, JJ), (able, JJ), (attach, NN), (car...\n",
       "22       [(ti, NN), (scientific, JJ), (calculator, NN),...\n",
       "23       [(nice, JJ), (calculator, NN), (high, JJ), (sc...\n",
       "24       [(got, VBD), (big, JJ), (box, NN), (retailer, ...\n",
       "26       [(working, VBG), (properly, RB), (wonderful, J...\n",
       "27       [(like, IN), (others, NNS), (posted, VBD), (pi...\n",
       "28       [(used, VBN), (calculator, NN), (throughout, I...\n",
       "29       [(unless, IN), (instructor, NN), (requires, VB...\n",
       "30       [(thankfully, RB), (amazon, JJ), (great, JJ), ...\n",
       "                               ...                        \n",
       "53227    [(safe, JJ), (given, VBN), (piece, NN), (never...\n",
       "53228    [(living, NN), (fires, NNS), (caused, VBD), (c...\n",
       "53229    [(using, VBG), (case, NN), (store, NN), (valua...\n",
       "53230    [(received, VBN), (medium, JJ), (large, JJ), (...\n",
       "53231    [(giving, VBG), (stars, NNS), (small, JJ), (si...\n",
       "53232    [(sentrysafe, JJ), (good, JJ), (small, JJ), (s...\n",
       "53233    [(sturdy, JJ), (chest, JJS), (bit, NN), (heavy...\n",
       "53234    [(house, NN), (burned, VBD), (fortunately, RB)...\n",
       "53235    [(safe, JJ), (designed, VBN), (specific, JJ), ...\n",
       "53236    [(firesafe, JJ), (looks, NNS), (like, IN), (de...\n",
       "53237    [(security, NN), (box, NN), (sentrysafe, JJ), ...\n",
       "53238    [(wife, NN), (bugging, VBG), (get, VB), (new, ...\n",
       "53239    [(needed, VBN), (safe, JJ), (important, JJ), (...\n",
       "53240    [(product, NN), (worked, VBN), (well, RB), (pu...\n",
       "53242    [(heavy, JJ), (hopefully, RB), (heavy, JJ), (d...\n",
       "53243    [(easy, JJ), (use, NN), (well, RB), (built, JJ...\n",
       "53244    [(safe, JJ), (attractive, JJ), (gray, JJ), (me...\n",
       "53245    [(light, JJ), (weight, NN), (purposes, NNS), (...\n",
       "53246    [(nice, JJ), (safe, JJ), (large, JJ), (combina...\n",
       "53247    [(well, RB), (made, VBN), (fire, NN), (proof, ...\n",
       "53248    [(reviewing, VBG), (product, NN), (people, NNS...\n",
       "53249    [(good, JJ), (quality, NN), (solidly, RB), (bu...\n",
       "53250    [(works, NNS), (even, RB), (video, VBP), (show...\n",
       "53251    [(quite, RB), (bit, NN), (stoked, JJ), (get, V...\n",
       "53252    [(like, IN), (theaccuteck, NN), (shippro, FW),...\n",
       "53253    [(like, IN), (scale, NN), (power, NN), (three,...\n",
       "53254    [(accuteck, NN), (shippro, JJ), (digital, JJ),...\n",
       "53255    [(ship, NN), (lot, NN), (stuff, NN), (sell, VB...\n",
       "53256    [(great, JJ), (little, JJ), (scale, JJ), (weig...\n",
       "53257    [(asked, VBN), (review, NN), (scale, NN), (alm...\n",
       "Name: pos_tag, Length: 48198, dtype: object"
      ]
     },
     "execution_count": 19,
     "metadata": {},
     "output_type": "execute_result"
    }
   ],
   "source": [
    "dataset['pos_tag']=dataset['tokens'].apply(lambda x: nltk.pos_tag(x))\n",
    "\n",
    "dataset['pos_tag']"
   ]
  },
  {
   "cell_type": "code",
   "execution_count": 20,
   "metadata": {},
   "outputs": [
    {
     "data": {
      "text/plain": [
       "['asked', 'scale']"
      ]
     },
     "execution_count": 20,
     "metadata": {},
     "output_type": "execute_result"
    }
   ],
   "source": [
    "# keep only adjective and adverb\n",
    "keep_tags=[\"JJ\",\"JJR\",\"JJS\",\"RB\",\"RBR\",\"RBS\",\"UH\"]\n",
    "\n",
    "def filter_tag(pos_list):\n",
    "    pos_clean_list=[]\n",
    "    for t in pos_list:\n",
    "        if t[1] in keep_tags:\n",
    "            pos_clean_list.append(t[0])\n",
    "    return pos_clean_list\n",
    "\n",
    "filter_tag([('asked', 'RB'), ('review', 'NN'), ('scale', 'RBS')])"
   ]
  },
  {
   "cell_type": "code",
   "execution_count": 21,
   "metadata": {},
   "outputs": [
    {
     "data": {
      "text/html": [
       "<div>\n",
       "<style scoped>\n",
       "    .dataframe tbody tr th:only-of-type {\n",
       "        vertical-align: middle;\n",
       "    }\n",
       "\n",
       "    .dataframe tbody tr th {\n",
       "        vertical-align: top;\n",
       "    }\n",
       "\n",
       "    .dataframe thead th {\n",
       "        text-align: right;\n",
       "    }\n",
       "</style>\n",
       "<table border=\"1\" class=\"dataframe\">\n",
       "  <thead>\n",
       "    <tr style=\"text-align: right;\">\n",
       "      <th></th>\n",
       "      <th>tokens</th>\n",
       "      <th>filter_pos_tag</th>\n",
       "    </tr>\n",
       "  </thead>\n",
       "  <tbody>\n",
       "    <tr>\n",
       "      <th>0</th>\n",
       "      <td>[bought, first, served, faithfully, lost, trav...</td>\n",
       "      <td>[first, faithfully, difficult, come, hp, many,...</td>\n",
       "    </tr>\n",
       "    <tr>\n",
       "      <th>1</th>\n",
       "      <td>[belated, review, feel, obliged, share, views,...</td>\n",
       "      <td>[old, workhorse, anniversary, ower, user, espe...</td>\n",
       "    </tr>\n",
       "    <tr>\n",
       "      <th>2</th>\n",
       "      <td>[hp, kicking, twenty, years, hp, years, old, s...</td>\n",
       "      <td>[old, still, flawless, key, already, hard, ove...</td>\n",
       "    </tr>\n",
       "    <tr>\n",
       "      <th>3</th>\n",
       "      <td>[started, finance, stuff, recently, went, look...</td>\n",
       "      <td>[recently, good, pleasantly, still, available,...</td>\n",
       "    </tr>\n",
       "    <tr>\n",
       "      <th>4</th>\n",
       "      <td>[simple, calculations, discounted, cash, flows...</td>\n",
       "      <td>[simple, still, best, used, cpa, financial, co...</td>\n",
       "    </tr>\n",
       "    <tr>\n",
       "      <th>5</th>\n",
       "      <td>[mba, hard, believe, calculator, learned, use,...</td>\n",
       "      <td>[mba, hard, use, undergraduate, still, quick, ...</td>\n",
       "    </tr>\n",
       "    <tr>\n",
       "      <th>6</th>\n",
       "      <td>[hp, ever, since, first, available, roughly, t...</td>\n",
       "      <td>[ever, first, available, roughly, ago, origina...</td>\n",
       "    </tr>\n",
       "    <tr>\n",
       "      <th>7</th>\n",
       "      <td>[bought, boss, lost, loves, calculator, would,...</td>\n",
       "      <td>[really, helps, great, little]</td>\n",
       "    </tr>\n",
       "    <tr>\n",
       "      <th>8</th>\n",
       "      <td>[simple, calculator, handles, typical, math, l...</td>\n",
       "      <td>[simple, typical, large, easy, read, long, eas...</td>\n",
       "    </tr>\n",
       "    <tr>\n",
       "      <th>9</th>\n",
       "      <td>[love, calculator, big, numbers, calculate, ex...</td>\n",
       "      <td>[big, excellent, easy, much, easier]</td>\n",
       "    </tr>\n",
       "  </tbody>\n",
       "</table>\n",
       "</div>"
      ],
      "text/plain": [
       "                                              tokens  \\\n",
       "0  [bought, first, served, faithfully, lost, trav...   \n",
       "1  [belated, review, feel, obliged, share, views,...   \n",
       "2  [hp, kicking, twenty, years, hp, years, old, s...   \n",
       "3  [started, finance, stuff, recently, went, look...   \n",
       "4  [simple, calculations, discounted, cash, flows...   \n",
       "5  [mba, hard, believe, calculator, learned, use,...   \n",
       "6  [hp, ever, since, first, available, roughly, t...   \n",
       "7  [bought, boss, lost, loves, calculator, would,...   \n",
       "8  [simple, calculator, handles, typical, math, l...   \n",
       "9  [love, calculator, big, numbers, calculate, ex...   \n",
       "\n",
       "                                      filter_pos_tag  \n",
       "0  [first, faithfully, difficult, come, hp, many,...  \n",
       "1  [old, workhorse, anniversary, ower, user, espe...  \n",
       "2  [old, still, flawless, key, already, hard, ove...  \n",
       "3  [recently, good, pleasantly, still, available,...  \n",
       "4  [simple, still, best, used, cpa, financial, co...  \n",
       "5  [mba, hard, use, undergraduate, still, quick, ...  \n",
       "6  [ever, first, available, roughly, ago, origina...  \n",
       "7                     [really, helps, great, little]  \n",
       "8  [simple, typical, large, easy, read, long, eas...  \n",
       "9               [big, excellent, easy, much, easier]  "
      ]
     },
     "execution_count": 21,
     "metadata": {},
     "output_type": "execute_result"
    }
   ],
   "source": [
    "dataset['filter_pos_tag']=dataset['pos_tag'].apply(filter_tag)\n",
    "\n",
    "dataset[['tokens','filter_pos_tag']].head(10)"
   ]
  },
  {
   "cell_type": "code",
   "execution_count": 22,
   "metadata": {},
   "outputs": [
    {
     "data": {
      "text/plain": [
       "[('great', 18069),\n",
       " ('well', 17291),\n",
       " ('good', 16007),\n",
       " ('easy', 15230),\n",
       " ('also', 14882),\n",
       " ('really', 12041),\n",
       " ('much', 11324),\n",
       " ('little', 10610),\n",
       " ('nice', 10251),\n",
       " ('even', 9159)]"
      ]
     },
     "execution_count": 22,
     "metadata": {},
     "output_type": "execute_result"
    }
   ],
   "source": [
    "positive_reviews=dataset[dataset['label']==1]['filter_pos_tag']\n",
    "\n",
    "positive_tokens=[word for review in positive_reviews for word in review]\n",
    "\n",
    "fdist = FreqDist(positive_tokens)\n",
    "\n",
    "\n",
    "fdist.most_common(10)\n"
   ]
  },
  {
   "cell_type": "code",
   "execution_count": 23,
   "metadata": {},
   "outputs": [
    {
     "data": {
      "image/png": "[encoded data removed]",
      "text/plain": [
       "<Figure size 432x288 with 1 Axes>"
      ]
     },
     "metadata": {
      "needs_background": "light"
     },
     "output_type": "display_data"
    }
   ],
   "source": [
    "import matplotlib.pyplot as plt\n",
    "fdist.plot(30,cumulative=False)\n",
    "plt.show()"
   ]
  },
  {
   "cell_type": "code",
   "execution_count": 24,
   "metadata": {},
   "outputs": [
    {
     "data": {
      "text/plain": [
       "[('even', 1058),\n",
       " ('good', 924),\n",
       " ('really', 853),\n",
       " ('well', 843),\n",
       " ('much', 830),\n",
       " ('also', 818),\n",
       " ('back', 724),\n",
       " ('first', 708),\n",
       " ('better', 607),\n",
       " ('still', 543)]"
      ]
     },
     "execution_count": 24,
     "metadata": {},
     "output_type": "execute_result"
    }
   ],
   "source": [
    "negative_reviews=dataset[dataset['label']==0]['filter_pos_tag']\n",
    "\n",
    "negative_tokens=[word for review in negative_reviews for word in review]\n",
    "\n",
    "fdist = FreqDist(negative_tokens)\n",
    "\n",
    "\n",
    "fdist.most_common(10)\n"
   ]
  },
  {
   "cell_type": "code",
   "execution_count": 25,
   "metadata": {},
   "outputs": [
    {
     "data": {
      "image/png": "[encoded data removed]",
      "text/plain": [
       "<Figure size 432x288 with 1 Axes>"
      ]
     },
     "metadata": {
      "needs_background": "light"
     },
     "output_type": "display_data"
    }
   ],
   "source": [
    "import matplotlib.pyplot as plt\n",
    "fdist.plot(30,cumulative=False)\n",
    "plt.show()"
   ]
  },
  {
   "cell_type": "code",
   "execution_count": 26,
   "metadata": {},
   "outputs": [
    {
     "data": {
      "text/plain": [
       "array(['the wrist pad i brought a couple of months ago had a terrible smell when i purchased it and the smell is still there but not as strong. now the gel is coming out at the seams.  i cannot use the wrist rest and i tried to fix it but it cannot be fixed.  i would not recommend this item.',\n",
       "       1, 0,\n",
       "       list(['the wrist pad i brought a couple of months ago had a terrible smell when i purchased it and the smell is still there but not as strong.', 'now the gel is coming out at the seams.', 'i cannot use the wrist rest and i tried to fix it but it cannot be fixed.', 'i would not recommend this item.']),\n",
       "       list(['wrist', 'pad', 'brought', 'couple', 'months', 'ago', 'terrible', 'smell', 'purchased', 'smell', 'still', 'strong', 'gel', 'coming', 'seams', 'use', 'wrist', 'rest', 'tried', 'fix', 'fixed', 'would', 'recommend', 'item']),\n",
       "       list(['wrist', 'pad', 'brought', 'coupl', 'month', 'ago', 'terribl', 'smell', 'purchas', 'smell', 'still', 'strong', 'gel', 'come', 'seam', 'use', 'wrist', 'rest', 'tri', 'fix', 'fix', 'would', 'recommend', 'item']),\n",
       "       list([('wrist', 'NN'), ('pad', 'NN'), ('brought', 'VBD'), ('couple', 'JJ'), ('months', 'NNS'), ('ago', 'IN'), ('terrible', 'JJ'), ('smell', 'NN'), ('purchased', 'VBD'), ('smell', 'NN'), ('still', 'RB'), ('strong', 'JJ'), ('gel', 'NN'), ('coming', 'VBG'), ('seams', 'NNS'), ('use', 'VBP'), ('wrist', 'JJ'), ('rest', 'NN'), ('tried', 'VBD'), ('fix', 'JJ'), ('fixed', 'VBN'), ('would', 'MD'), ('recommend', 'VB'), ('item', 'NN')]),\n",
       "       list(['couple', 'terrible', 'still', 'strong', 'wrist', 'fix'])],\n",
       "      dtype=object)"
      ]
     },
     "execution_count": 26,
     "metadata": {},
     "output_type": "execute_result"
    }
   ],
   "source": [
    "dataset[dataset['label']==0].iloc[25].values"
   ]
  },
  {
   "cell_type": "code",
   "execution_count": 27,
   "metadata": {},
   "outputs": [],
   "source": [
    "dataset['clean_sentence']=dataset['filter_pos_tag'].apply(lambda x: ' '.join(x))"
   ]
  },
  {
   "cell_type": "markdown",
   "metadata": {},
   "source": [
    "### Sentiment analysis using TextBlob Library"
   ]
  },
  {
   "cell_type": "code",
   "execution_count": 28,
   "metadata": {},
   "outputs": [],
   "source": [
    "from textblob import TextBlob\n",
    "from textblob import Word"
   ]
  },
  {
   "cell_type": "code",
   "execution_count": 29,
   "metadata": {},
   "outputs": [],
   "source": [
    "def detect_polarity(col):\n",
    "    return TextBlob(col).sentiment.polarity\n",
    "def detect_subjectivity(col):\n",
    "    return TextBlob(col).sentiment.subjectivity\n",
    "def get_lemma(col):\n",
    "    lemma_list = []\n",
    "    text = TextBlob(col).words\n",
    "    for item in text:\n",
    "        lemma = Word(item).lemmatize()\n",
    "        lemma_list.append(lemma)\n",
    "    return lemma_list"
   ]
  },
  {
   "cell_type": "code",
   "execution_count": 30,
   "metadata": {},
   "outputs": [],
   "source": [
    "filter_method = lambda x:'Highly Positive' if x >= 0.5 else 'Fairly Positive' if (x > 0 and x < 0.5) else 'Highly Negative' if x <= -0.5 else 'Fairly Negative' if (x > -0.5 and x < 0) else 'Neutral'"
   ]
  },
  {
   "cell_type": "code",
   "execution_count": 31,
   "metadata": {},
   "outputs": [],
   "source": [
    "# dataset['polarity'] = round(dataset.clean_sentence.apply(detect_polarity),1)\n",
    "# dataset['subjectivity'] = round(dataset.clean_sentence.apply(detect_subjectivity),1)\n",
    "# dataset['sentiment'] = dataset['polarity'].apply(filter_method)\n",
    "# dataset['lemma'] = dataset.clean_sentence.apply(get_lemma)\n",
    "# dataset.head(6)"
   ]
  },
  {
   "cell_type": "code",
   "execution_count": 32,
   "metadata": {},
   "outputs": [
    {
     "data": {
      "text/html": [
       "<div>\n",
       "<style scoped>\n",
       "    .dataframe tbody tr th:only-of-type {\n",
       "        vertical-align: middle;\n",
       "    }\n",
       "\n",
       "    .dataframe tbody tr th {\n",
       "        vertical-align: top;\n",
       "    }\n",
       "\n",
       "    .dataframe thead th {\n",
       "        text-align: right;\n",
       "    }\n",
       "</style>\n",
       "<table border=\"1\" class=\"dataframe\">\n",
       "  <thead>\n",
       "    <tr style=\"text-align: right;\">\n",
       "      <th></th>\n",
       "      <th>reviewText</th>\n",
       "      <th>overall</th>\n",
       "      <th>label</th>\n",
       "      <th>sentence</th>\n",
       "      <th>tokens</th>\n",
       "      <th>stem_sentence</th>\n",
       "      <th>pos_tag</th>\n",
       "      <th>filter_pos_tag</th>\n",
       "      <th>clean_sentence</th>\n",
       "      <th>polarity</th>\n",
       "      <th>subjectivity</th>\n",
       "      <th>sentiment</th>\n",
       "      <th>lemma</th>\n",
       "    </tr>\n",
       "  </thead>\n",
       "  <tbody>\n",
       "    <tr>\n",
       "      <th>0</th>\n",
       "      <td>i bought my first hp12c in about 1984 or so, a...</td>\n",
       "      <td>5</td>\n",
       "      <td>1</td>\n",
       "      <td>[i bought my first hp12c in about 1984 or so, ...</td>\n",
       "      <td>[bought, first, served, faithfully, lost, trav...</td>\n",
       "      <td>[bought, first, serv, faith, lost, travel, sea...</td>\n",
       "      <td>[(bought, VBD), (first, RB), (served, VBN), (f...</td>\n",
       "      <td>[first, faithfully, difficult, come, hp, many,...</td>\n",
       "      <td>first faithfully difficult come hp many hp hp ...</td>\n",
       "      <td>0.2</td>\n",
       "      <td>0.5</td>\n",
       "      <td>Fairly Positive</td>\n",
       "      <td>[i, bought, my, first, hp12c, in, about, 1984,...</td>\n",
       "    </tr>\n",
       "    <tr>\n",
       "      <th>1</th>\n",
       "      <td>why this belated review? i feel very obliged t...</td>\n",
       "      <td>5</td>\n",
       "      <td>1</td>\n",
       "      <td>[why this belated review?, i feel very obliged...</td>\n",
       "      <td>[belated, review, feel, obliged, share, views,...</td>\n",
       "      <td>[belat, review, feel, oblig, share, view, old,...</td>\n",
       "      <td>[(belated, VBN), (review, NN), (feel, NN), (ob...</td>\n",
       "      <td>[old, workhorse, anniversary, ower, user, espe...</td>\n",
       "      <td>old workhorse anniversary ower user especially...</td>\n",
       "      <td>0.2</td>\n",
       "      <td>0.5</td>\n",
       "      <td>Fairly Positive</td>\n",
       "      <td>[why, this, belated, review, i, feel, very, ob...</td>\n",
       "    </tr>\n",
       "    <tr>\n",
       "      <th>2</th>\n",
       "      <td>i have an hp 48gx that has been kicking for mo...</td>\n",
       "      <td>2</td>\n",
       "      <td>0</td>\n",
       "      <td>[i have an hp 48gx that has been kicking for m...</td>\n",
       "      <td>[hp, kicking, twenty, years, hp, years, old, s...</td>\n",
       "      <td>[hp, kick, twenti, year, hp, year, old, still,...</td>\n",
       "      <td>[(hp, NN), (kicking, VBG), (twenty, CD), (year...</td>\n",
       "      <td>[old, still, flawless, key, already, hard, ove...</td>\n",
       "      <td>old still flawless key already hard overall ne...</td>\n",
       "      <td>0.2</td>\n",
       "      <td>0.5</td>\n",
       "      <td>Fairly Positive</td>\n",
       "      <td>[i, have, an, hp, 48gx, that, ha, been, kickin...</td>\n",
       "    </tr>\n",
       "    <tr>\n",
       "      <th>3</th>\n",
       "      <td>i've started doing more finance stuff recently...</td>\n",
       "      <td>5</td>\n",
       "      <td>1</td>\n",
       "      <td>[i've started doing more finance stuff recentl...</td>\n",
       "      <td>[started, finance, stuff, recently, went, look...</td>\n",
       "      <td>[start, financ, stuff, recent, went, look, goo...</td>\n",
       "      <td>[(started, VBN), (finance, NN), (stuff, NN), (...</td>\n",
       "      <td>[recently, good, pleasantly, still, available,...</td>\n",
       "      <td>recently good pleasantly still available hp gr...</td>\n",
       "      <td>0.2</td>\n",
       "      <td>0.5</td>\n",
       "      <td>Fairly Positive</td>\n",
       "      <td>[i, 've, started, doing, more, finance, stuff,...</td>\n",
       "    </tr>\n",
       "    <tr>\n",
       "      <th>4</th>\n",
       "      <td>for simple calculations and discounted cash fl...</td>\n",
       "      <td>5</td>\n",
       "      <td>1</td>\n",
       "      <td>[for simple calculations and discounted cash f...</td>\n",
       "      <td>[simple, calculations, discounted, cash, flows...</td>\n",
       "      <td>[simpl, calcul, discount, cash, flow, one, sti...</td>\n",
       "      <td>[(simple, JJ), (calculations, NNS), (discounte...</td>\n",
       "      <td>[simple, still, best, used, cpa, financial, co...</td>\n",
       "      <td>simple still best used cpa financial complex e...</td>\n",
       "      <td>0.4</td>\n",
       "      <td>0.5</td>\n",
       "      <td>Fairly Positive</td>\n",
       "      <td>[for, simple, calculation, and, discounted, ca...</td>\n",
       "    </tr>\n",
       "    <tr>\n",
       "      <th>5</th>\n",
       "      <td>while i don't have an mba, it's hard to believ...</td>\n",
       "      <td>5</td>\n",
       "      <td>1</td>\n",
       "      <td>[while i don't have an mba, it's hard to belie...</td>\n",
       "      <td>[mba, hard, believe, calculator, learned, use,...</td>\n",
       "      <td>[mba, hard, believ, calcul, learn, use, underg...</td>\n",
       "      <td>[(mba, RB), (hard, JJ), (believe, VBP), (calcu...</td>\n",
       "      <td>[mba, hard, use, undergraduate, still, quick, ...</td>\n",
       "      <td>mba hard use undergraduate still quick financi...</td>\n",
       "      <td>0.0</td>\n",
       "      <td>0.3</td>\n",
       "      <td>Neutral</td>\n",
       "      <td>[while, i, do, n't, have, an, mba, it, 's, har...</td>\n",
       "    </tr>\n",
       "  </tbody>\n",
       "</table>\n",
       "</div>"
      ],
      "text/plain": [
       "                                          reviewText  overall  label  \\\n",
       "0  i bought my first hp12c in about 1984 or so, a...        5      1   \n",
       "1  why this belated review? i feel very obliged t...        5      1   \n",
       "2  i have an hp 48gx that has been kicking for mo...        2      0   \n",
       "3  i've started doing more finance stuff recently...        5      1   \n",
       "4  for simple calculations and discounted cash fl...        5      1   \n",
       "5  while i don't have an mba, it's hard to believ...        5      1   \n",
       "\n",
       "                                            sentence  \\\n",
       "0  [i bought my first hp12c in about 1984 or so, ...   \n",
       "1  [why this belated review?, i feel very obliged...   \n",
       "2  [i have an hp 48gx that has been kicking for m...   \n",
       "3  [i've started doing more finance stuff recentl...   \n",
       "4  [for simple calculations and discounted cash f...   \n",
       "5  [while i don't have an mba, it's hard to belie...   \n",
       "\n",
       "                                              tokens  \\\n",
       "0  [bought, first, served, faithfully, lost, trav...   \n",
       "1  [belated, review, feel, obliged, share, views,...   \n",
       "2  [hp, kicking, twenty, years, hp, years, old, s...   \n",
       "3  [started, finance, stuff, recently, went, look...   \n",
       "4  [simple, calculations, discounted, cash, flows...   \n",
       "5  [mba, hard, believe, calculator, learned, use,...   \n",
       "\n",
       "                                       stem_sentence  \\\n",
       "0  [bought, first, serv, faith, lost, travel, sea...   \n",
       "1  [belat, review, feel, oblig, share, view, old,...   \n",
       "2  [hp, kick, twenti, year, hp, year, old, still,...   \n",
       "3  [start, financ, stuff, recent, went, look, goo...   \n",
       "4  [simpl, calcul, discount, cash, flow, one, sti...   \n",
       "5  [mba, hard, believ, calcul, learn, use, underg...   \n",
       "\n",
       "                                             pos_tag  \\\n",
       "0  [(bought, VBD), (first, RB), (served, VBN), (f...   \n",
       "1  [(belated, VBN), (review, NN), (feel, NN), (ob...   \n",
       "2  [(hp, NN), (kicking, VBG), (twenty, CD), (year...   \n",
       "3  [(started, VBN), (finance, NN), (stuff, NN), (...   \n",
       "4  [(simple, JJ), (calculations, NNS), (discounte...   \n",
       "5  [(mba, RB), (hard, JJ), (believe, VBP), (calcu...   \n",
       "\n",
       "                                      filter_pos_tag  \\\n",
       "0  [first, faithfully, difficult, come, hp, many,...   \n",
       "1  [old, workhorse, anniversary, ower, user, espe...   \n",
       "2  [old, still, flawless, key, already, hard, ove...   \n",
       "3  [recently, good, pleasantly, still, available,...   \n",
       "4  [simple, still, best, used, cpa, financial, co...   \n",
       "5  [mba, hard, use, undergraduate, still, quick, ...   \n",
       "\n",
       "                                      clean_sentence  polarity  subjectivity  \\\n",
       "0  first faithfully difficult come hp many hp hp ...       0.2           0.5   \n",
       "1  old workhorse anniversary ower user especially...       0.2           0.5   \n",
       "2  old still flawless key already hard overall ne...       0.2           0.5   \n",
       "3  recently good pleasantly still available hp gr...       0.2           0.5   \n",
       "4  simple still best used cpa financial complex e...       0.4           0.5   \n",
       "5  mba hard use undergraduate still quick financi...       0.0           0.3   \n",
       "\n",
       "         sentiment                                              lemma  \n",
       "0  Fairly Positive  [i, bought, my, first, hp12c, in, about, 1984,...  \n",
       "1  Fairly Positive  [why, this, belated, review, i, feel, very, ob...  \n",
       "2  Fairly Positive  [i, have, an, hp, 48gx, that, ha, been, kickin...  \n",
       "3  Fairly Positive  [i, 've, started, doing, more, finance, stuff,...  \n",
       "4  Fairly Positive  [for, simple, calculation, and, discounted, ca...  \n",
       "5          Neutral  [while, i, do, n't, have, an, mba, it, 's, har...  "
      ]
     },
     "execution_count": 32,
     "metadata": {},
     "output_type": "execute_result"
    }
   ],
   "source": [
    "dataset['polarity'] = round(dataset.reviewText.apply(detect_polarity),1)\n",
    "dataset['subjectivity'] = round(dataset.reviewText.apply(detect_subjectivity),1)\n",
    "dataset['sentiment'] = dataset['polarity'].apply(filter_method)\n",
    "dataset['lemma'] = dataset.reviewText.apply(get_lemma)\n",
    "dataset.head(6)"
   ]
  },
  {
   "cell_type": "code",
   "execution_count": 33,
   "metadata": {
    "scrolled": true
   },
   "outputs": [
    {
     "data": {
      "text/plain": [
       "Fairly Positive    38971\n",
       "Neutral             3977\n",
       "Highly Positive     3861\n",
       "Fairly Negative     1346\n",
       "Highly Negative       43\n",
       "Name: sentiment, dtype: int64"
      ]
     },
     "execution_count": 33,
     "metadata": {},
     "output_type": "execute_result"
    }
   ],
   "source": [
    "dataset.sentiment.value_counts()"
   ]
  },
  {
   "cell_type": "code",
   "execution_count": 34,
   "metadata": {},
   "outputs": [
    {
     "data": {
      "text/plain": [
       "1    45342\n",
       "0     2856\n",
       "Name: label, dtype: int64"
      ]
     },
     "execution_count": 34,
     "metadata": {},
     "output_type": "execute_result"
    }
   ],
   "source": [
    "dataset.label.value_counts()"
   ]
  },
  {
   "cell_type": "code",
   "execution_count": 35,
   "metadata": {},
   "outputs": [
    {
     "data": {
      "text/plain": [
       "0.5    17609\n",
       "0.6    12600\n",
       "0.4     8491\n",
       "0.7     4416\n",
       "0.3     1959\n",
       "0.8     1685\n",
       "0.2      485\n",
       "0.9      365\n",
       "1.0      237\n",
       "0.0      236\n",
       "0.1      115\n",
       "Name: subjectivity, dtype: int64"
      ]
     },
     "execution_count": 35,
     "metadata": {},
     "output_type": "execute_result"
    }
   ],
   "source": [
    "dataset.subjectivity.value_counts()"
   ]
  },
  {
   "cell_type": "code",
   "execution_count": 36,
   "metadata": {},
   "outputs": [
    {
     "data": {
      "text/plain": [
       "<matplotlib.axes._subplots.AxesSubplot at 0x148fcff60>"
      ]
     },
     "execution_count": 36,
     "metadata": {},
     "output_type": "execute_result"
    },
    {
     "data": {
      "image/png": "[encoded data removed]",
      "text/plain": [
       "<Figure size 432x288 with 1 Axes>"
      ]
     },
     "metadata": {
      "needs_background": "light"
     },
     "output_type": "display_data"
    }
   ],
   "source": [
    "\n",
    "sns.countplot(x=\"sentiment\", hue=\"label\", data=dataset)"
   ]
  },
  {
   "cell_type": "code",
   "execution_count": 37,
   "metadata": {
    "scrolled": true
   },
   "outputs": [
    {
     "data": {
      "text/plain": [
       "<matplotlib.axes._subplots.AxesSubplot at 0x1c30fceb8>"
      ]
     },
     "execution_count": 37,
     "metadata": {},
     "output_type": "execute_result"
    },
    {
     "data": {
      "image/png": "[encoded data removed]",
      "text/plain": [
       "<Figure size 432x288 with 1 Axes>"
      ]
     },
     "metadata": {
      "needs_background": "light"
     },
     "output_type": "display_data"
    }
   ],
   "source": [
    "sns.countplot(x=\"sentiment\", hue=\"label\", data=dataset[dataset['label']==1])"
   ]
  },
  {
   "cell_type": "code",
   "execution_count": 38,
   "metadata": {},
   "outputs": [
    {
     "data": {
      "text/plain": [
       "<matplotlib.axes._subplots.AxesSubplot at 0x148fa3240>"
      ]
     },
     "execution_count": 38,
     "metadata": {},
     "output_type": "execute_result"
    },
    {
     "data": {
      "image/png": "[encoded data removed]",
      "text/plain": [
       "<Figure size 432x288 with 1 Axes>"
      ]
     },
     "metadata": {
      "needs_background": "light"
     },
     "output_type": "display_data"
    }
   ],
   "source": [
    "sns.countplot(x=\"sentiment\", hue=\"label\", data=dataset[dataset['label']==0])"
   ]
  },
  {
   "cell_type": "code",
   "execution_count": 39,
   "metadata": {},
   "outputs": [
    {
     "data": {
      "text/plain": [
       "(0, 13)"
      ]
     },
     "execution_count": 39,
     "metadata": {},
     "output_type": "execute_result"
    }
   ],
   "source": [
    "dataset[(dataset['label']==1) & (dataset['sentiment']==0)].shape"
   ]
  },
  {
   "cell_type": "code",
   "execution_count": 40,
   "metadata": {},
   "outputs": [
    {
     "data": {
      "text/plain": [
       "(0, 13)"
      ]
     },
     "execution_count": 40,
     "metadata": {},
     "output_type": "execute_result"
    }
   ],
   "source": [
    "dataset[(dataset['label']==0) & (dataset['sentiment']==0)].shape"
   ]
  },
  {
   "cell_type": "code",
   "execution_count": 48,
   "metadata": {},
   "outputs": [],
   "source": [
    "filter_method = lambda x: 1 if x>0 else 0 if x<0 else 1 if math.atan2(0.0, -0.0) == math.atan2(x, -0.0) else 0"
   ]
  },
  {
   "cell_type": "code",
   "execution_count": 54,
   "metadata": {},
   "outputs": [
    {
     "data": {
      "text/html": [
       "<div>\n",
       "<style scoped>\n",
       "    .dataframe tbody tr th:only-of-type {\n",
       "        vertical-align: middle;\n",
       "    }\n",
       "\n",
       "    .dataframe tbody tr th {\n",
       "        vertical-align: top;\n",
       "    }\n",
       "\n",
       "    .dataframe thead th {\n",
       "        text-align: right;\n",
       "    }\n",
       "</style>\n",
       "<table border=\"1\" class=\"dataframe\">\n",
       "  <thead>\n",
       "    <tr style=\"text-align: right;\">\n",
       "      <th></th>\n",
       "      <th>filter_pos_tag</th>\n",
       "      <th>lemma</th>\n",
       "    </tr>\n",
       "  </thead>\n",
       "  <tbody>\n",
       "    <tr>\n",
       "      <th>0</th>\n",
       "      <td>[first, faithfully, difficult, come, hp, many,...</td>\n",
       "      <td>[i, bought, my, first, hp12c, in, about, 1984,...</td>\n",
       "    </tr>\n",
       "    <tr>\n",
       "      <th>1</th>\n",
       "      <td>[old, workhorse, anniversary, ower, user, espe...</td>\n",
       "      <td>[why, this, belated, review, i, feel, very, ob...</td>\n",
       "    </tr>\n",
       "    <tr>\n",
       "      <th>2</th>\n",
       "      <td>[old, still, flawless, key, already, hard, ove...</td>\n",
       "      <td>[i, have, an, hp, 48gx, that, ha, been, kickin...</td>\n",
       "    </tr>\n",
       "    <tr>\n",
       "      <th>3</th>\n",
       "      <td>[recently, good, pleasantly, still, available,...</td>\n",
       "      <td>[i, 've, started, doing, more, finance, stuff,...</td>\n",
       "    </tr>\n",
       "    <tr>\n",
       "      <th>4</th>\n",
       "      <td>[simple, still, best, used, cpa, financial, co...</td>\n",
       "      <td>[for, simple, calculation, and, discounted, ca...</td>\n",
       "    </tr>\n",
       "  </tbody>\n",
       "</table>\n",
       "</div>"
      ],
      "text/plain": [
       "                                      filter_pos_tag  \\\n",
       "0  [first, faithfully, difficult, come, hp, many,...   \n",
       "1  [old, workhorse, anniversary, ower, user, espe...   \n",
       "2  [old, still, flawless, key, already, hard, ove...   \n",
       "3  [recently, good, pleasantly, still, available,...   \n",
       "4  [simple, still, best, used, cpa, financial, co...   \n",
       "\n",
       "                                               lemma  \n",
       "0  [i, bought, my, first, hp12c, in, about, 1984,...  \n",
       "1  [why, this, belated, review, i, feel, very, ob...  \n",
       "2  [i, have, an, hp, 48gx, that, ha, been, kickin...  \n",
       "3  [i, 've, started, doing, more, finance, stuff,...  \n",
       "4  [for, simple, calculation, and, discounted, ca...  "
      ]
     },
     "execution_count": 54,
     "metadata": {},
     "output_type": "execute_result"
    }
   ],
   "source": [
    "dataset[['filter_pos_tag','lemma']].head()"
   ]
  },
  {
   "cell_type": "code",
   "execution_count": 55,
   "metadata": {},
   "outputs": [],
   "source": [
    "# TODO emoticon , acronymns mapping, exclusion list"
   ]
  },
  {
   "cell_type": "code",
   "execution_count": 56,
   "metadata": {},
   "outputs": [],
   "source": [
    "#Function to calculate Model Metrics\n",
    "\n",
    "def get_model_metrics(actual,predicted):\n",
    "    \"\"\"\n",
    "    Print Summary Metrics of the Model\n",
    "\n",
    "    Parameters:\n",
    "    actual (pandas.core.series.Series): Series of Boolean values for target column\n",
    "    predicted (pandas.core.series.Series): Series of Boolean values for Model predicted the target column\n",
    "    \n",
    "    Returns:\n",
    "    None\n",
    "\n",
    "   \"\"\"\n",
    "\n",
    "    \n",
    "    confusion = metrics.confusion_matrix(actual,predicted )\n",
    "    TP = confusion[1,1] # true positive \n",
    "    TN = confusion[0,0] # true negatives\n",
    "    FP = confusion[0,1] # false positives\n",
    "    FN = confusion[1,0] # false negatives\n",
    "    accuracy=metrics.accuracy_score(actual,predicted)\n",
    "    sensitivity = TP / float(TP+FN)\n",
    "    specificity = TN / float(TN+FP)\n",
    "    precision=TP/float(FP+TP)\n",
    "    recall=TP/float(FN+TP)\n",
    "    \n",
    "    precision=metrics.precision_score(actual,predicted)\n",
    "    recall=metrics.recall_score(actual,predicted)\n",
    "    f1=metrics.f1_score(actual,predicted, average='weighted') \n",
    "    print(\"Accuracy    : \"+str(round(accuracy,2)))\n",
    "    print(\"Sensitivity : \"+str(round(sensitivity,2)))\n",
    "    print(\"Specificity : \"+str(round(specificity,2)))\n",
    "    print(\"Precision   : \"+str(round(precision,2)))\n",
    "    print(\"Recall      : \"+str(round(recall,2)))\n",
    "    print(\"F1_score    : \"+str(round(f1,2)))\n",
    "\n",
    "def get_cross_validated_model_metrics(X,y,cv=5):\n",
    "    \"\"\"\n",
    "    Get cross validated model metric for k folds\n",
    "\n",
    "    Parameters:\n",
    "    X (pandas.core.frame.DataFrame): DF of all the features excluding target column\n",
    "    y (pandas.core.series.Series): Series of Boolean values of the target column\n",
    "    \n",
    "    Returns:\n",
    "    df (pandas.core.frame.DataFrame): DF will all the metric for k fold\n",
    "\n",
    "   \"\"\"\n",
    "    accuracy=cross_val_score(logregcv, X, y, cv=cv,n_jobs=-1,scoring='accuracy')\n",
    "    precision=cross_val_score(logregcv, X, y, cv=cv,n_jobs=-1,scoring='precision')\n",
    "    recall=cross_val_score(logregcv, X, y, cv=cv,n_jobs=-1,scoring='recall')\n",
    "    f1_weighted=cross_val_score(logregcv, X, y, cv=cv,n_jobs=-1,scoring='f1_weighted')\n",
    "    roc_auc=cross_val_score(logregcv, X, y, cv=cv,n_jobs=-1,scoring='roc_auc')\n",
    "    df=pd.DataFrame(\n",
    "    {'accuracy': accuracy,\n",
    "     'precision': precision,\n",
    "     'recall': recall,\n",
    "     'f1_weighted': f1_weighted,\n",
    "     'roc_auc': roc_auc,\n",
    "    })\n",
    "    return df\n",
    "\n",
    "logregcv = LogisticRegressionCV(class_weight='balanced',cv=5)"
   ]
  },
  {
   "cell_type": "code",
   "execution_count": 57,
   "metadata": {},
   "outputs": [],
   "source": [
    "from sklearn.model_selection import train_test_split\n",
    "\n",
    "X = pd.DataFrame(dataset, columns = [\"clean_sentence\"])\n",
    "y = pd.DataFrame(dataset, columns = [\"label\"])\n",
    "\n",
    "X_train , X_test , y_train , y_test = train_test_split(X, y, random_state=50,stratify=y,train_size=0.7)"
   ]
  },
  {
   "cell_type": "code",
   "execution_count": 58,
   "metadata": {},
   "outputs": [
    {
     "data": {
      "text/html": [
       "<div>\n",
       "<style scoped>\n",
       "    .dataframe tbody tr th:only-of-type {\n",
       "        vertical-align: middle;\n",
       "    }\n",
       "\n",
       "    .dataframe tbody tr th {\n",
       "        vertical-align: top;\n",
       "    }\n",
       "\n",
       "    .dataframe thead th {\n",
       "        text-align: right;\n",
       "    }\n",
       "</style>\n",
       "<table border=\"1\" class=\"dataframe\">\n",
       "  <thead>\n",
       "    <tr style=\"text-align: right;\">\n",
       "      <th></th>\n",
       "      <th>clean_sentence</th>\n",
       "    </tr>\n",
       "  </thead>\n",
       "  <tbody>\n",
       "    <tr>\n",
       "      <th>30346</th>\n",
       "      <td>bold clean solid really back even immediately ...</td>\n",
       "    </tr>\n",
       "    <tr>\n",
       "      <th>466</th>\n",
       "      <td>avery best easy old simple clear great also ma...</td>\n",
       "    </tr>\n",
       "    <tr>\n",
       "      <th>4335</th>\n",
       "      <td>first continually new comfortable high</td>\n",
       "    </tr>\n",
       "    <tr>\n",
       "      <th>37664</th>\n",
       "      <td>many decent really decide attractive directly ...</td>\n",
       "    </tr>\n",
       "    <tr>\n",
       "      <th>35986</th>\n",
       "      <td>read important future scotch much much removab...</td>\n",
       "    </tr>\n",
       "  </tbody>\n",
       "</table>\n",
       "</div>"
      ],
      "text/plain": [
       "                                          clean_sentence\n",
       "30346  bold clean solid really back even immediately ...\n",
       "466    avery best easy old simple clear great also ma...\n",
       "4335              first continually new comfortable high\n",
       "37664  many decent really decide attractive directly ...\n",
       "35986  read important future scotch much much removab..."
      ]
     },
     "execution_count": 58,
     "metadata": {},
     "output_type": "execute_result"
    }
   ],
   "source": [
    "X_train.head()"
   ]
  },
  {
   "cell_type": "code",
   "execution_count": 59,
   "metadata": {},
   "outputs": [],
   "source": [
    "from sklearn.feature_extraction.text import CountVectorizer\n",
    "\n",
    "vectorizer = CountVectorizer(token_pattern=r'\\b\\w+\\b')\n",
    "train_vector = vectorizer.fit_transform(X_train[\"clean_sentence\"])\n",
    "test_vector = vectorizer.transform(X_test[\"clean_sentence\"])"
   ]
  },
  {
   "cell_type": "code",
   "execution_count": 60,
   "metadata": {},
   "outputs": [
    {
     "data": {
      "text/plain": [
       "30346    bold clean solid really back even immediately ...\n",
       "466      avery best easy old simple clear great also ma...\n",
       "4335                first continually new comfortable high\n",
       "37664    many decent really decide attractive directly ...\n",
       "35986    read important future scotch much much removab...\n",
       "Name: clean_sentence, dtype: object"
      ]
     },
     "execution_count": 60,
     "metadata": {},
     "output_type": "execute_result"
    }
   ],
   "source": [
    "X_train[\"clean_sentence\"].head()"
   ]
  },
  {
   "cell_type": "code",
   "execution_count": 61,
   "metadata": {},
   "outputs": [
    {
     "data": {
      "text/plain": [
       "{'bold': 1498,\n",
       " 'clean': 2215,\n",
       " 'solid': 12799,\n",
       " 'really': 11115,\n",
       " 'back': 1125,\n",
       " 'even': 4383,\n",
       " 'immediately': 6476,\n",
       " 'functionality': 5386,\n",
       " 'permanent': 10057,\n",
       " 'great': 5756,\n",
       " 'lowdown': 7918,\n",
       " 'cleanly': 2224,\n",
       " 'consistently': 2606,\n",
       " 'erasable': 4296,\n",
       " 'pencil': 9995,\n",
       " 'cheaper': 2063,\n",
       " 'pen': 9993,\n",
       " 'ever': 4391,\n",
       " 'happy': 5967,\n",
       " 'never': 8893,\n",
       " 'basically': 1213,\n",
       " 'avery': 1076,\n",
       " 'best': 1326,\n",
       " 'easy': 3960,\n",
       " 'old': 9383,\n",
       " 'simple': 12460,\n",
       " 'clear': 2228,\n",
       " 'also': 491,\n",
       " 'many': 8102,\n",
       " 'different': 3402,\n",
       " 'yard': 16153,\n",
       " 'first': 4941,\n",
       " 'continually': 2646,\n",
       " 'new': 8897,\n",
       " 'comfortable': 2404,\n",
       " 'high': 6152,\n",
       " 'decent': 3115,\n",
       " 'decide': 3120,\n",
       " 'attractive': 1000,\n",
       " 'directly': 3466,\n",
       " 'camera': 1831,\n",
       " 'quite': 11007,\n",
       " 'conveniently': 2670,\n",
       " 'hp': 6294,\n",
       " 'clutter': 2311,\n",
       " 'additional': 190,\n",
       " 'wirelessly': 15958,\n",
       " 'scan': 11883,\n",
       " 'large': 7444,\n",
       " 'features': 4778,\n",
       " 'last': 7460,\n",
       " 'less': 7608,\n",
       " 'premium': 10549,\n",
       " 'small': 12643,\n",
       " 'specifically': 12917,\n",
       " 'footprint': 5147,\n",
       " 'almost': 471,\n",
       " 'know': 7324,\n",
       " 'originally': 9556,\n",
       " 'touch': 14334,\n",
       " 'smoothly': 12695,\n",
       " 'slightly': 12596,\n",
       " 'convenient': 2668,\n",
       " 'well': 15812,\n",
       " 'used': 15349,\n",
       " 'glossy': 5612,\n",
       " 'good': 5644,\n",
       " 'better': 1332,\n",
       " 'text': 13894,\n",
       " 'excellent': 4430,\n",
       " 'dark': 3052,\n",
       " 'black': 1392,\n",
       " 'sharp': 12249,\n",
       " 'right': 11620,\n",
       " 'individual': 6672,\n",
       " 'whole': 15881,\n",
       " 'much': 8620,\n",
       " 'white': 15868,\n",
       " 'spend': 12941,\n",
       " 'printer': 10652,\n",
       " 'present': 10566,\n",
       " 'around': 817,\n",
       " 'read': 11086,\n",
       " 'important': 6521,\n",
       " 'future': 5429,\n",
       " 'scotch': 11970,\n",
       " 'removable': 11363,\n",
       " 'big': 1351,\n",
       " 'enough': 4216,\n",
       " 'cube': 2940,\n",
       " 'item': 7107,\n",
       " 'functional': 5385,\n",
       " 'little': 7779,\n",
       " 'however': 6291,\n",
       " 'epson': 4281,\n",
       " 'often': 9359,\n",
       " 'enjoy': 4203,\n",
       " 'artisan': 848,\n",
       " 'special': 12909,\n",
       " 'extremely': 4593,\n",
       " 'thicker': 14046,\n",
       " 'perfect': 10032,\n",
       " 'heavyweight': 6079,\n",
       " 'already': 489,\n",
       " 'similar': 12454,\n",
       " 'main': 8045,\n",
       " 'definitely': 3171,\n",
       " 'ink': 6762,\n",
       " 'wireless': 15955,\n",
       " 'nice': 8939,\n",
       " 'fax': 4750,\n",
       " 'incredible': 6626,\n",
       " 'write': 16107,\n",
       " 'blue': 1463,\n",
       " 'lightness': 7683,\n",
       " 'orange': 9502,\n",
       " 'hard': 5969,\n",
       " 'pleased': 10285,\n",
       " 'appear': 719,\n",
       " 'frequently': 5297,\n",
       " 'super': 13499,\n",
       " 'x': 16129,\n",
       " 'neon': 8852,\n",
       " 'fit': 4951,\n",
       " 'fast': 4708,\n",
       " 'huge': 6311,\n",
       " 'detachable': 3321,\n",
       " 'always': 512,\n",
       " 'inserts': 6818,\n",
       " 'soon': 12829,\n",
       " 'come': 2399,\n",
       " 'liked': 7696,\n",
       " 'handy': 5948,\n",
       " 'grab': 5678,\n",
       " 'personal': 10077,\n",
       " 'actually': 160,\n",
       " 'wanted': 15689,\n",
       " 'seemingly': 12091,\n",
       " 'pretty': 10601,\n",
       " 'patterned': 9931,\n",
       " 'top': 14300,\n",
       " 'feminine': 4813,\n",
       " 'regular': 11277,\n",
       " 'bottom': 1559,\n",
       " 'third': 14070,\n",
       " 'spongy': 12988,\n",
       " 'purple': 10900,\n",
       " 'playful': 10276,\n",
       " 'crytal': 2935,\n",
       " 'sure': 13552,\n",
       " 'clip': 2260,\n",
       " 'necessary': 8805,\n",
       " 'usually': 15418,\n",
       " 'useful': 15365,\n",
       " 'fun': 5383,\n",
       " 'pleasure': 10290,\n",
       " 'absolutely': 40,\n",
       " 'laptop': 7440,\n",
       " 'table': 13671,\n",
       " 'countertop': 2784,\n",
       " 'away': 1092,\n",
       " 'next': 8928,\n",
       " 'unfriendly': 14909,\n",
       " 'longer': 7851,\n",
       " 'probably': 10708,\n",
       " 'prismy': 10693,\n",
       " 'pad': 9764,\n",
       " 'powerful': 10466,\n",
       " 'tool': 14287,\n",
       " 'yet': 16185,\n",
       " 'staple': 13118,\n",
       " 'suddenly': 13457,\n",
       " 'hold': 6209,\n",
       " 'break': 1612,\n",
       " 'guess': 5839,\n",
       " 'thick': 14042,\n",
       " 'easily': 3951,\n",
       " 'past': 9902,\n",
       " 'cute': 2999,\n",
       " 'magnetic': 8026,\n",
       " 'low': 7917,\n",
       " 'duplex': 3876,\n",
       " 'anywhere': 682,\n",
       " 'older': 9387,\n",
       " 'notice': 9129,\n",
       " 'quickly': 10984,\n",
       " 'overall': 9651,\n",
       " 'readable': 11087,\n",
       " 'interested': 6916,\n",
       " 'laser': 7453,\n",
       " 'instead': 6856,\n",
       " 'similarly': 12456,\n",
       " 'primary': 10638,\n",
       " 'fine': 4900,\n",
       " 'capable': 1868,\n",
       " 'long': 7850,\n",
       " 'separate': 12148,\n",
       " 'happen': 5960,\n",
       " 'magenta': 8014,\n",
       " 'plenty': 10293,\n",
       " 'whereas': 15844,\n",
       " 'durable': 3882,\n",
       " 'postal': 10432,\n",
       " 'laid': 7394,\n",
       " 'flat': 4997,\n",
       " 'completely': 2488,\n",
       " 'particularly': 9881,\n",
       " 'removed': 11367,\n",
       " 'flexible': 5030,\n",
       " 'strong': 13342,\n",
       " 'rarely': 11057,\n",
       " 'use': 15343,\n",
       " 'flip': 5049,\n",
       " 'several': 12201,\n",
       " 'usage': 15331,\n",
       " 'still': 13231,\n",
       " 'mesh': 8298,\n",
       " 'find': 4894,\n",
       " 'finish': 4917,\n",
       " 'smooth': 12691,\n",
       " 'professional': 10737,\n",
       " 'classy': 2213,\n",
       " 'real': 11106,\n",
       " 'stainless': 13089,\n",
       " 'notch': 9099,\n",
       " 'structural': 13350,\n",
       " 'plastic': 10256,\n",
       " 'end': 4164,\n",
       " 'vertical': 15521,\n",
       " 'clearly': 2234,\n",
       " 'mine': 8393,\n",
       " 'light': 7672,\n",
       " 'noticeable': 9130,\n",
       " 'closely': 2278,\n",
       " 'wide': 15892,\n",
       " 'rear': 11126,\n",
       " 'forward': 5223,\n",
       " 'chair': 2021,\n",
       " 'adjustable': 232,\n",
       " 'widescreen': 15898,\n",
       " 'larger': 7448,\n",
       " 'portrait': 10411,\n",
       " 'due': 3855,\n",
       " 'insufficient': 6876,\n",
       " 'maximum': 8196,\n",
       " 'adjust': 231,\n",
       " 'far': 4690,\n",
       " 'together': 14255,\n",
       " 'bit': 1376,\n",
       " 'desktop': 3303,\n",
       " 'easier': 3948,\n",
       " 'mount': 8584,\n",
       " 'worth': 16068,\n",
       " 'improve': 6543,\n",
       " 'highly': 6165,\n",
       " 'ago': 364,\n",
       " 'helpful': 6104,\n",
       " 'simply': 12471,\n",
       " 'place': 10234,\n",
       " 'pouch': 10452,\n",
       " 'neatly': 8795,\n",
       " 'spilled': 12957,\n",
       " 'dress': 3795,\n",
       " 'razor': 11078,\n",
       " 'change': 2033,\n",
       " 'columbian': 2383,\n",
       " 'purpose': 10903,\n",
       " 'thin': 14057,\n",
       " 'certainly': 2013,\n",
       " 'especially': 4337,\n",
       " 'hinge': 6177,\n",
       " 'surprised': 13567,\n",
       " 'particular': 9878,\n",
       " 'sometimes': 12819,\n",
       " 'basic': 1212,\n",
       " 'heavy': 6077,\n",
       " 'nicer': 8947,\n",
       " 'bright': 1635,\n",
       " 'overly': 9685,\n",
       " 'reminder': 11355,\n",
       " 'dingy': 3448,\n",
       " 'magic': 8016,\n",
       " 'recommended': 11181,\n",
       " 'earlier': 3927,\n",
       " 'stickiness': 13214,\n",
       " 'stack': 13075,\n",
       " 'stickier': 13212,\n",
       " 'fairly': 4651,\n",
       " 'inexpensive': 6697,\n",
       " 'expensive': 4508,\n",
       " 'fall': 4660,\n",
       " 'certain': 2012,\n",
       " 'rental': 11376,\n",
       " 'bag': 1155,\n",
       " 'dog': 3668,\n",
       " 'ear': 3924,\n",
       " 'previous': 10608,\n",
       " 'eagerly': 3919,\n",
       " 'eraser': 4302,\n",
       " 'disappear': 3478,\n",
       " 'yellow': 16170,\n",
       " 'invisible': 7007,\n",
       " 'able': 21,\n",
       " 'whist': 15865,\n",
       " 'exam': 4417,\n",
       " 'loose': 7876,\n",
       " 'mistakenly': 8452,\n",
       " 'maybe': 8197,\n",
       " 'cover': 2798,\n",
       " 'front': 5335,\n",
       " 'gray': 5747,\n",
       " 'elastic': 4062,\n",
       " 'transparent': 14414,\n",
       " 'insert': 6814,\n",
       " 'title': 14231,\n",
       " 'apart': 693,\n",
       " 'least': 7545,\n",
       " 'inch': 6577,\n",
       " 'along': 476,\n",
       " 'difficult': 3411,\n",
       " 'open': 9453,\n",
       " 'close': 2274,\n",
       " 'loud': 7901,\n",
       " 'plan': 10245,\n",
       " 'binder': 1364,\n",
       " 'library': 7645,\n",
       " 'amazon': 528,\n",
       " 'vine': 15565,\n",
       " 'receive': 11152,\n",
       " 'fully': 5378,\n",
       " 'unfortunately': 14905,\n",
       " 'give': 5570,\n",
       " 'score': 11967,\n",
       " 'general': 5502,\n",
       " 'therapeutic': 13993,\n",
       " 'think': 14060,\n",
       " 'normal': 9071,\n",
       " 'strange': 13285,\n",
       " 'generally': 5504,\n",
       " 'destroy': 3317,\n",
       " 'disability': 3471,\n",
       " 'lot': 7896,\n",
       " 'digital': 3424,\n",
       " 'downloadable': 3739,\n",
       " 'handle': 5930,\n",
       " 'informative': 6724,\n",
       " 'recently': 11156,\n",
       " 'seattle': 12054,\n",
       " 'boxes': 1577,\n",
       " 'collectible': 2357,\n",
       " 'comic': 2411,\n",
       " 'sturdy': 13389,\n",
       " 'final': 4888,\n",
       " 'stackable': 13076,\n",
       " 'transport': 14416,\n",
       " 'assemble': 887,\n",
       " 'inside': 6821,\n",
       " 'side': 12412,\n",
       " 'wobbly': 15998,\n",
       " 'free': 5276,\n",
       " 'locker': 7821,\n",
       " 'disassemble': 3487,\n",
       " 'interior': 6928,\n",
       " 'ample': 555,\n",
       " 'tall': 13721,\n",
       " 'frustrated': 5350,\n",
       " 'tried': 14463,\n",
       " 'lead': 7517,\n",
       " 'deploy': 3254,\n",
       " 'luckily': 7948,\n",
       " 'otherwise': 9583,\n",
       " 'cool': 2698,\n",
       " 'multipen': 8649,\n",
       " 'beautifully': 1257,\n",
       " 'anyway': 679,\n",
       " 'tricky': 14461,\n",
       " 'expose': 4553,\n",
       " 'metal': 8308,\n",
       " 'reasonable': 11129,\n",
       " 'current': 2969,\n",
       " 'bulbous': 1705,\n",
       " 'pleasant': 10281,\n",
       " 'sticky': 13221,\n",
       " 'adhesive': 224,\n",
       " 'inevitably': 6695,\n",
       " 'exactly': 4411,\n",
       " 'single': 12483,\n",
       " 'neater': 8793,\n",
       " 'tabs': 13679,\n",
       " 'tough': 14346,\n",
       " 'daily': 3028,\n",
       " 'gentle': 5516,\n",
       " 'type': 14588,\n",
       " 'early': 3930,\n",
       " 'boring': 1538,\n",
       " 'logical': 7832,\n",
       " 'aware': 1089,\n",
       " 'fantastic': 4685,\n",
       " 'relief': 11321,\n",
       " 'picked': 10155,\n",
       " 'spiral': 12964,\n",
       " 'bible': 1342,\n",
       " 'binding': 1366,\n",
       " 'smaller': 12644,\n",
       " 'increadibly': 6622,\n",
       " 'need': 8811,\n",
       " 'heavily': 6075,\n",
       " 'weighted': 15798,\n",
       " 'pull': 10860,\n",
       " 'proper': 10791,\n",
       " 'notebooks': 9106,\n",
       " 'rip': 11637,\n",
       " 'stronger': 13343,\n",
       " 'megacheap': 8257,\n",
       " 'rigid': 11624,\n",
       " 'mall': 8058,\n",
       " 'smell': 12673,\n",
       " 'dumpster': 3872,\n",
       " 'savory': 11871,\n",
       " 'empty': 4140,\n",
       " 'tear': 13783,\n",
       " 'worried': 16060,\n",
       " 'diagram': 3373,\n",
       " 'want': 15688,\n",
       " 'cardboard': 1883,\n",
       " 'advance': 272,\n",
       " 'frequent': 5295,\n",
       " 'entire': 4239,\n",
       " 'translucent': 14406,\n",
       " 'stylish': 13393,\n",
       " 'adequate': 203,\n",
       " 'pens': 10014,\n",
       " 'cheap': 2061,\n",
       " 'brittle': 1650,\n",
       " 'crystal': 2934,\n",
       " 'scratched': 11985,\n",
       " 'narrow': 8740,\n",
       " 'personally': 10081,\n",
       " 'firmer': 4934,\n",
       " 'callous': 1819,\n",
       " 'middle': 8356,\n",
       " 'lose': 7889,\n",
       " 'undeniably': 14776,\n",
       " 'compact': 2443,\n",
       " 'skin': 12527,\n",
       " 'couple': 2787,\n",
       " 'rockin': 11667,\n",
       " 'keep': 7255,\n",
       " 'stuff': 13372,\n",
       " 'competitive': 2474,\n",
       " 'standard': 13102,\n",
       " 'unique': 14976,\n",
       " 'agree': 366,\n",
       " 'full': 5372,\n",
       " 'routine': 11715,\n",
       " 'dare': 3051,\n",
       " 'happier': 5964,\n",
       " 'short': 12353,\n",
       " 'necessarily': 8804,\n",
       " 'customize': 2992,\n",
       " 'sufficient': 13465,\n",
       " 'colored': 2365,\n",
       " 'somewhat': 12821,\n",
       " 'soft': 12776,\n",
       " 'grip': 5796,\n",
       " 'ten': 13855,\n",
       " 'click': 2245,\n",
       " 'manual': 8090,\n",
       " 'ok': 9376,\n",
       " 'settings': 12185,\n",
       " 'install': 6839,\n",
       " 'cd': 1982,\n",
       " 'double': 3719,\n",
       " 'automatic': 1040,\n",
       " 'bulletin': 1717,\n",
       " 'cork': 2737,\n",
       " 'securely': 12073,\n",
       " 'wall': 15675,\n",
       " 'contain': 2628,\n",
       " 'names': 8727,\n",
       " 'residue': 11473,\n",
       " 'favorite': 4745,\n",
       " 'disposable': 3571,\n",
       " 'barely': 1195,\n",
       " 'forgot': 5189,\n",
       " 'kick': 7274,\n",
       " 'stuck': 13362,\n",
       " 'queue': 10976,\n",
       " 'unplug': 15076,\n",
       " 'warm': 15693,\n",
       " 'anytime': 678,\n",
       " 'manually': 8092,\n",
       " 'quiet': 10992,\n",
       " 'son': 12823,\n",
       " 'update': 15248,\n",
       " 'previously': 10609,\n",
       " 'finally': 4890,\n",
       " 'connect': 2576,\n",
       " 'select': 12103,\n",
       " 'intuitive': 6978,\n",
       " 'disc': 3493,\n",
       " 'website': 15779,\n",
       " 'nonetheless': 9040,\n",
       " 'like': 7693,\n",
       " 'notetabs': 9122,\n",
       " 'inconspicuous': 6611,\n",
       " 'square': 13029,\n",
       " 'musical': 8661,\n",
       " 'vocal': 15607,\n",
       " 'reusable': 11553,\n",
       " 'second': 12056,\n",
       " 'iphone': 7033,\n",
       " 'ipad': 7031,\n",
       " 'quick': 10978,\n",
       " 'envelope': 4249,\n",
       " 'neat': 8788,\n",
       " 'friendly': 5315,\n",
       " 'label': 7350,\n",
       " 'post': 10429,\n",
       " 'recyclable': 11201,\n",
       " 'conscious': 2587,\n",
       " 'nurse': 9214,\n",
       " 'medical': 8244,\n",
       " 'retractable': 11535,\n",
       " 'constantly': 2614,\n",
       " 'pick': 10154,\n",
       " 'etc': 4356,\n",
       " 'granddaughter': 5711,\n",
       " 'junior': 7233,\n",
       " 'young': 16197,\n",
       " 'bought': 1565,\n",
       " 'dome': 3678,\n",
       " 'mess': 8299,\n",
       " 'perfectly': 10036,\n",
       " 'wonderful': 16006,\n",
       " 'buy': 1773,\n",
       " 'file': 4866,\n",
       " 'acer': 121,\n",
       " 'usb': 15336,\n",
       " 'scanned': 11893,\n",
       " 'smead': 12664,\n",
       " 'wow': 16078,\n",
       " 'negative': 8829,\n",
       " 'intact': 6885,\n",
       " 'capped': 1874,\n",
       " 'extend': 4566,\n",
       " 'momentary': 8514,\n",
       " 'uncapped': 14721,\n",
       " 'cheapest': 2064,\n",
       " 'blick': 1430,\n",
       " 'purely': 10896,\n",
       " 'incorporate': 6617,\n",
       " 'meant': 8222,\n",
       " 'tan': 13731,\n",
       " 'temporary': 13847,\n",
       " 'later': 7472,\n",
       " 'sharpen': 12253,\n",
       " 'youthful': 16203,\n",
       " 'stapler': 13120,\n",
       " 'everyday': 4399,\n",
       " 'weight': 15797,\n",
       " 'occasional': 9287,\n",
       " 'outside': 9635,\n",
       " 'various': 15465,\n",
       " 'slips': 12611,\n",
       " 'paperwork': 9843,\n",
       " 'folder': 5117,\n",
       " 'expandable': 4488,\n",
       " 'conventional': 2673,\n",
       " 'ironically': 7051,\n",
       " 'lower': 7919,\n",
       " 'mead': 8211,\n",
       " 'satisfactory': 11850,\n",
       " 'bind': 1363,\n",
       " 'let': 7616,\n",
       " 'notebook': 9104,\n",
       " 'subject': 13406,\n",
       " 'punched': 10872,\n",
       " 'worthwhile': 16070,\n",
       " 'grad': 5688,\n",
       " 'dry': 3837,\n",
       " 'extra': 4580,\n",
       " 'recommend': 11179,\n",
       " 'genuine': 5519,\n",
       " 'user': 15382,\n",
       " 'tab': 13669,\n",
       " 'assembly': 892,\n",
       " 'solo': 12801,\n",
       " 'inadequate': 6552,\n",
       " 'aside': 872,\n",
       " 'sensible': 12135,\n",
       " 'otherbasyx': 9579,\n",
       " 'partially': 9873,\n",
       " 'possibly': 10428,\n",
       " 'easiest': 3950,\n",
       " 'bolt': 1504,\n",
       " 'loosely': 7878,\n",
       " 'complete': 2486,\n",
       " 'tighten': 14176,\n",
       " 'wheel': 15840,\n",
       " 'choose': 2131,\n",
       " 'hydraulic': 6354,\n",
       " 'managerial': 8066,\n",
       " 'executive': 4456,\n",
       " 'prior': 10688,\n",
       " 'hon': 6234,\n",
       " 'ultimately': 14638,\n",
       " 'sooner': 12830,\n",
       " 'patch': 9912,\n",
       " 'cracked': 2812,\n",
       " 'entirely': 4240,\n",
       " 'thickness': 14051,\n",
       " 'uncomfortable': 14745,\n",
       " 'forever': 5181,\n",
       " 'constant': 2613,\n",
       " 'positive': 10423,\n",
       " 'average': 1072,\n",
       " 'padding': 9766,\n",
       " 'modern': 8488,\n",
       " 'rectangular': 11196,\n",
       " 'brown': 1664,\n",
       " 'infinitely': 6710,\n",
       " 'nicely': 8944,\n",
       " 'upper': 15280,\n",
       " 'strangely': 13286,\n",
       " 'ray': 11075,\n",
       " 'traditional': 14379,\n",
       " 'wooden': 16017,\n",
       " 'else': 4104,\n",
       " 'comfortably': 2406,\n",
       " 'leather': 7546,\n",
       " 'synthetic': 13663,\n",
       " 'true': 14505,\n",
       " 'alone': 475,\n",
       " 'vibrant': 15539,\n",
       " 'workable': 16025,\n",
       " 'distraction': 3612,\n",
       " 'slim': 12597,\n",
       " 'pdf': 9949,\n",
       " 'email': 4109,\n",
       " 'legal': 7572,\n",
       " 'impressed': 6532,\n",
       " 'borderless': 1534,\n",
       " 'save': 11863,\n",
       " 'automatically': 1041,\n",
       " 'bad': 1148,\n",
       " 'nature': 8762,\n",
       " 'tuck': 14536,\n",
       " 'nearly': 8787,\n",
       " 'pounds': 10458,\n",
       " 'deep': 3146,\n",
       " 'chinese': 2117,\n",
       " 'vtech': 15640,\n",
       " 'breakdown': 1614,\n",
       " 'child': 2108,\n",
       " 'local': 7810,\n",
       " 'corporate': 2745,\n",
       " 'inkjet': 6772,\n",
       " 'crazy': 2842,\n",
       " 'dimensionally': 3438,\n",
       " 'thus': 14147,\n",
       " 'usa': 15328,\n",
       " 'affordable': 325,\n",
       " 'perhaps': 10045,\n",
       " 'luggage': 7954,\n",
       " 'hot': 6277,\n",
       " 'wish': 15968,\n",
       " 'device': 3355,\n",
       " 'quality': 10946,\n",
       " 'box': 1574,\n",
       " 'shape': 12241,\n",
       " 'seal': 12035,\n",
       " 'confident': 2546,\n",
       " 'edge': 3997,\n",
       " 'spent': 12945,\n",
       " 'upstairs': 15301,\n",
       " 'piece': 10176,\n",
       " 'tank': 13738,\n",
       " 'guessing': 5841,\n",
       " 'tactile': 13695,\n",
       " 'grateful': 5736,\n",
       " 'steep': 13184,\n",
       " 'stick': 13207,\n",
       " 'economical': 3987,\n",
       " 'eternal': 4362,\n",
       " 'quest': 10972,\n",
       " 'instantly': 6855,\n",
       " 'blank': 1413,\n",
       " 'fill': 4876,\n",
       " 'wipe': 15948,\n",
       " 'torn': 14315,\n",
       " 'messy': 8306,\n",
       " 'usps': 15413,\n",
       " 'paypal': 9940,\n",
       " 'removal': 11364,\n",
       " 'expensivebottom': 4510,\n",
       " 'print': 10647,\n",
       " 'hassle': 6005,\n",
       " 'glue': 5619,\n",
       " 'correctly': 2753,\n",
       " 'colorful': 2369,\n",
       " 'essentially': 4345,\n",
       " 'recycled': 11204,\n",
       " 'organize': 9532,\n",
       " 'gooey': 5653,\n",
       " 'pointless': 10348,\n",
       " 'cookbooks': 2693,\n",
       " 'okay': 9377,\n",
       " 'unusual': 15215,\n",
       " 'tips': 14218,\n",
       " 'length': 7593,\n",
       " 'apply': 735,\n",
       " 'evenly': 4384,\n",
       " 'array': 824,\n",
       " 'typical': 14597,\n",
       " 'upset': 15291,\n",
       " 'exclusively': 4448,\n",
       " 'canon': 1856,\n",
       " 'impress': 6531,\n",
       " 'pixma': 10230,\n",
       " 'format': 5195,\n",
       " 'included': 6594,\n",
       " 'wrong': 16113,\n",
       " 'toolbox': 14289,\n",
       " 'fantastically': 4687,\n",
       " 'make': 8051,\n",
       " 'identical': 6394,\n",
       " 'visually': 15597,\n",
       " 'nameplate': 8726,\n",
       " 'identically': 6396,\n",
       " 'dye': 3905,\n",
       " 'pigment': 10181,\n",
       " 'grey': 5779,\n",
       " 'chroma': 2140,\n",
       " 'vs': 15639,\n",
       " 'sharpest': 12265,\n",
       " 'primarily': 10637,\n",
       " 'reduced': 11225,\n",
       " 'red': 11207,\n",
       " 'monochrome': 8531,\n",
       " 'brightest': 1638,\n",
       " 'looked': 7864,\n",
       " 'slightest': 12595,\n",
       " 'vividly': 15602,\n",
       " 'faithfully': 4657,\n",
       " 'see': 12081,\n",
       " 'grainier': 5700,\n",
       " 'indistinguishable': 6671,\n",
       " 'none': 9037,\n",
       " 'distinguishable': 3602,\n",
       " 'photos': 10132,\n",
       " 'direct': 3460,\n",
       " 'deeper': 3147,\n",
       " 'ferrari': 4822,\n",
       " 'biggest': 1353,\n",
       " 'photo': 10122,\n",
       " 'glassy': 5588,\n",
       " 'original': 9554,\n",
       " 'gloss': 5608,\n",
       " 'layer': 7496,\n",
       " 'smooths': 12700,\n",
       " 'store': 13263,\n",
       " 'pro': 10704,\n",
       " 'literally': 7769,\n",
       " 'love': 7908,\n",
       " 'times': 14199,\n",
       " 'significantly': 12434,\n",
       " 'shook': 12347,\n",
       " 'tip': 14214,\n",
       " 'rather': 11062,\n",
       " 'desk': 3298,\n",
       " 'expense': 4507,\n",
       " 'slower': 12629,\n",
       " 'phenomenal': 10110,\n",
       " 'unbeatable': 14696,\n",
       " 'truly': 14511,\n",
       " 'stamp': 13094,\n",
       " 'safe': 11784,\n",
       " 'reliable': 11315,\n",
       " 'tackle': 13689,\n",
       " 'comparable': 2451,\n",
       " 'unwieldy': 15225,\n",
       " 'prolonged': 10766,\n",
       " 'adjacent': 228,\n",
       " 'dymo': 3908,\n",
       " 'fancy': 4681,\n",
       " 'fair': 4650,\n",
       " 'ache': 124,\n",
       " 'acutely': 166,\n",
       " 'lift': 7668,\n",
       " 'ideal': 6390,\n",
       " 'achieve': 126,\n",
       " 'angle': 610,\n",
       " 'higher': 6153,\n",
       " 'ideally': 6391,\n",
       " 'healed': 6050,\n",
       " 'mounted': 8587,\n",
       " 'arm': 806,\n",
       " 'installed': 6844,\n",
       " 'corner': 2740,\n",
       " 'farther': 4698,\n",
       " 'somewhere': 12822,\n",
       " 'park': 9865,\n",
       " 'undergo': 14788,\n",
       " 'bungee': 1734,\n",
       " 'strung': 13354,\n",
       " 'couch': 2774,\n",
       " 'lightly': 7682,\n",
       " 'lap': 7433,\n",
       " 'brilliant': 1642,\n",
       " 'totally': 14328,\n",
       " 'par': 9846,\n",
       " 'either': 4053,\n",
       " 'notepad': 9112,\n",
       " 'craft': 2816,\n",
       " 'decorative': 3136,\n",
       " 'popular': 10401,\n",
       " 'anymore': 676,\n",
       " 'everytime': 4400,\n",
       " 'hid': 6143,\n",
       " 'slowly': 12631,\n",
       " 'hit': 6186,\n",
       " 'lid': 7653,\n",
       " 'fold': 5113,\n",
       " 'compatible': 2462,\n",
       " 'popped': 10397,\n",
       " 'mac': 7989,\n",
       " 'ugly': 14621,\n",
       " 'wiggle': 15908,\n",
       " 'sturdier': 13385,\n",
       " 'flap': 4985,\n",
       " 'navy': 8776,\n",
       " 'fellowes': 4808,\n",
       " 'tray': 14428,\n",
       " 'edges': 4000,\n",
       " 'curved': 2978,\n",
       " 'wasted': 15727,\n",
       " 'underneath': 14801,\n",
       " 'worst': 16067,\n",
       " 'monitor': 8524,\n",
       " 'private': 10699,\n",
       " 'thought': 14101,\n",
       " 'poorly': 10392,\n",
       " 'curious': 2962,\n",
       " 'ask': 875,\n",
       " 'rid': 11610,\n",
       " 'librarian': 7644,\n",
       " 'eventually': 4389,\n",
       " 'useless': 15376,\n",
       " 'lifts': 7671,\n",
       " 'public': 10850,\n",
       " 'avoid': 1081,\n",
       " 'legs': 7585,\n",
       " 'dust': 3890,\n",
       " 'neck': 8807,\n",
       " 'slide': 12584,\n",
       " 'available': 1063,\n",
       " 'poor': 10389,\n",
       " 'adorable': 261,\n",
       " 'stiffer': 13229,\n",
       " 'infrequently': 6730,\n",
       " 'green': 5769,\n",
       " 'perky': 10055,\n",
       " 'visual': 15595,\n",
       " 'shut': 12401,\n",
       " 'notable': 9094,\n",
       " 'upside': 15293,\n",
       " 'mostly': 8566,\n",
       " 'pendaflex': 10003,\n",
       " 'overstuffed': 9713,\n",
       " 'upload': 15273,\n",
       " 'logo': 7840,\n",
       " 'tapeless': 13748,\n",
       " 'instant': 6851,\n",
       " 'advantage': 275,\n",
       " 'firstly': 4942,\n",
       " 'importantly': 6522,\n",
       " 'prohibitive': 10758,\n",
       " 'assembled': 888,\n",
       " 'multi': 8633,\n",
       " 'ultra': 14640,\n",
       " 'teacher': 13776,\n",
       " 'chisel': 2124,\n",
       " 'enduraglide': 4176,\n",
       " 'physical': 10146,\n",
       " 'smear': 12665,\n",
       " 'noisy': 9022,\n",
       " 'careful': 1898,\n",
       " 'bic': 1345,\n",
       " 'detailed': 3325,\n",
       " 'sort': 12845,\n",
       " 'draggy': 3772,\n",
       " 'color': 2363,\n",
       " 'unlined': 15010,\n",
       " 'nifty': 8964,\n",
       " 'straight': 13274,\n",
       " 'wild': 15916,\n",
       " 'worthy': 16071,\n",
       " 'snap': 12722,\n",
       " 'seem': 12088,\n",
       " 'likely': 7701,\n",
       " 'english': 4196,\n",
       " 'lasting': 7463,\n",
       " 'remover': 11368,\n",
       " 'mega': 8256,\n",
       " 'critical': 2887,\n",
       " 'serious': 12168,\n",
       " 'base': 1206,\n",
       " 'document': 3654,\n",
       " 'start': 13146,\n",
       " 'ocean': 9301,\n",
       " 'unfamiliar': 14880,\n",
       " 'complex': 2490,\n",
       " 'attached': 981,\n",
       " 'lexmark': 7634,\n",
       " 'printed': 10650,\n",
       " 'ethernet': 4367,\n",
       " 'flash': 4991,\n",
       " 'efficient': 4031,\n",
       " 'satisfied': 11851,\n",
       " 'needs': 8819,\n",
       " 'perforated': 10037,\n",
       " 'clipboard': 2262,\n",
       " 'skip': 12532,\n",
       " 'spanish': 12889,\n",
       " 'screen': 11996,\n",
       " 'approximate': 755,\n",
       " 'relatively': 11306,\n",
       " 'pack': 9747,\n",
       " 'elementary': 4084,\n",
       " 'electric': 4070,\n",
       " 'lousy': 7907,\n",
       " 'provide': 10824,\n",
       " 'thru': 14132,\n",
       " 'advertisement': 286,\n",
       " 'modicum': 8495,\n",
       " 'underlying': 14799,\n",
       " 'sticker': 13210,\n",
       " 'visible': 15588,\n",
       " 'contrary': 2656,\n",
       " 'ms': 8612,\n",
       " 'multiple': 8650,\n",
       " 'microsoft': 8353,\n",
       " 'fragile': 5249,\n",
       " 'finger': 4909,\n",
       " 'survive': 13573,\n",
       " 'comcast': 2398,\n",
       " 'mo': 8473,\n",
       " 'telco': 13823,\n",
       " 'ooma': 9438,\n",
       " 'anal': 567,\n",
       " 'rounded': 11711,\n",
       " 'perspective': 10085,\n",
       " 'possible': 10427,\n",
       " 'allow': 463,\n",
       " 'driver': 3811,\n",
       " 'slight': 12594,\n",
       " 'slow': 12627,\n",
       " 'live': 7785,\n",
       " 'individually': 6674,\n",
       " 'combined': 2391,\n",
       " 'art': 835,\n",
       " 'heavier': 6073,\n",
       " 'bulk': 1710,\n",
       " 'solar': 12792,\n",
       " 'internal': 6941,\n",
       " 'scientific': 11958,\n",
       " 'household': 6288,\n",
       " 'analog': 569,\n",
       " 'properly': 10792,\n",
       " 'dial': 3375,\n",
       " 'dead': 3090,\n",
       " 'sadly': 11780,\n",
       " 'keypad': 7268,\n",
       " 'subscribe': 13415,\n",
       " 'redial': 11213,\n",
       " 'handmade': 5935,\n",
       " 'adorne': 265,\n",
       " 'plus': 10314,\n",
       " 'consistent': 2605,\n",
       " 'amount': 551,\n",
       " 'match': 8169,\n",
       " 'sturdily': 13387,\n",
       " 'cordless': 2732,\n",
       " 'twice': 14571,\n",
       " 'sound': 12856,\n",
       " 'key': 7262,\n",
       " 'weird': 15803,\n",
       " 'awful': 1101,\n",
       " 'step': 13193,\n",
       " 'follow': 5128,\n",
       " 'advisable': 293,\n",
       " 'carefully': 1900,\n",
       " 'distributionfine': 3616,\n",
       " 'summary': 13484,\n",
       " 'dubious': 3849,\n",
       " 'unfindable': 14889,\n",
       " 'mere': 8292,\n",
       " 'hiccup': 6141,\n",
       " 'checked': 2078,\n",
       " ...}"
      ]
     },
     "execution_count": 61,
     "metadata": {},
     "output_type": "execute_result"
    }
   ],
   "source": [
    "vectorizer.vocabulary_"
   ]
  },
  {
   "cell_type": "code",
   "execution_count": 62,
   "metadata": {},
   "outputs": [
    {
     "data": {
      "text/plain": [
       "16237"
      ]
     },
     "execution_count": 62,
     "metadata": {},
     "output_type": "execute_result"
    }
   ],
   "source": [
    "len(vectorizer.vocabulary_.keys())"
   ]
  },
  {
   "cell_type": "markdown",
   "metadata": {},
   "source": [
    "## Logistic Regression"
   ]
  },
  {
   "cell_type": "code",
   "execution_count": 63,
   "metadata": {},
   "outputs": [
    {
     "name": "stdout",
     "output_type": "stream",
     "text": [
      "0.8830567081604426\n"
     ]
    }
   ],
   "source": [
    "log_reg_model = LogisticRegressionCV(class_weight='balanced')\n",
    "log_reg_model.fit(train_vector, y_train)\n",
    "scores = log_reg_model.score(test_vector, y_test) # accuracy\n",
    "print(scores)"
   ]
  },
  {
   "cell_type": "code",
   "execution_count": 64,
   "metadata": {},
   "outputs": [],
   "source": [
    "#Making prediction on the train data\n",
    "y_train_pred = log_reg_model.predict_proba(train_vector)[:,1]\n",
    "\n",
    "#Making prediction on the test data\n",
    "y_pred = log_reg_model.predict_proba(test_vector)[:,1]\n",
    "\n",
    "y_train_pred=pd.Series(y_train_pred)\n",
    "y_pred=pd.Series(y_pred)\n",
    "\n",
    "y_pred_bool= y_pred.apply(lambda x: 1 if x>=0.5 else 0)\n",
    "y_train_pred_bool= y_train_pred.apply(lambda x: 1 if x>=0.5 else 0)"
   ]
  },
  {
   "cell_type": "code",
   "execution_count": 65,
   "metadata": {},
   "outputs": [
    {
     "data": {
      "text/plain": [
       "array([[ 1937,    62],\n",
       "       [ 1366, 30373]])"
      ]
     },
     "execution_count": 65,
     "metadata": {},
     "output_type": "execute_result"
    }
   ],
   "source": [
    "metrics.confusion_matrix(y_train,y_train_pred_bool)"
   ]
  },
  {
   "cell_type": "code",
   "execution_count": 66,
   "metadata": {},
   "outputs": [
    {
     "name": "stdout",
     "output_type": "stream",
     "text": [
      "Accuracy    : 0.96\n",
      "Sensitivity : 0.96\n",
      "Specificity : 0.97\n",
      "Precision   : 1.0\n",
      "Recall      : 0.96\n",
      "F1_score    : 0.96\n"
     ]
    }
   ],
   "source": [
    "get_model_metrics(y_train,y_train_pred_bool)"
   ]
  },
  {
   "cell_type": "code",
   "execution_count": 67,
   "metadata": {},
   "outputs": [
    {
     "data": {
      "text/plain": [
       "array([[  424,   433],\n",
       "       [ 1258, 12345]])"
      ]
     },
     "execution_count": 67,
     "metadata": {},
     "output_type": "execute_result"
    }
   ],
   "source": [
    "metrics.confusion_matrix(y_test,y_pred_bool)"
   ]
  },
  {
   "cell_type": "code",
   "execution_count": 68,
   "metadata": {},
   "outputs": [
    {
     "name": "stdout",
     "output_type": "stream",
     "text": [
      "Accuracy    : 0.88\n",
      "Sensitivity : 0.91\n",
      "Specificity : 0.49\n",
      "Precision   : 0.97\n",
      "Recall      : 0.91\n",
      "F1_score    : 0.9\n"
     ]
    }
   ],
   "source": [
    "get_model_metrics(y_test,y_pred_bool)"
   ]
  },
  {
   "cell_type": "code",
   "execution_count": 69,
   "metadata": {},
   "outputs": [
    {
     "data": {
      "text/html": [
       "<div>\n",
       "<style scoped>\n",
       "    .dataframe tbody tr th:only-of-type {\n",
       "        vertical-align: middle;\n",
       "    }\n",
       "\n",
       "    .dataframe tbody tr th {\n",
       "        vertical-align: top;\n",
       "    }\n",
       "\n",
       "    .dataframe thead th {\n",
       "        text-align: right;\n",
       "    }\n",
       "</style>\n",
       "<table border=\"1\" class=\"dataframe\">\n",
       "  <thead>\n",
       "    <tr style=\"text-align: right;\">\n",
       "      <th></th>\n",
       "      <th>y_train</th>\n",
       "      <th>y_pred</th>\n",
       "      <th>y_train_pred_bool</th>\n",
       "    </tr>\n",
       "  </thead>\n",
       "  <tbody>\n",
       "    <tr>\n",
       "      <th>0</th>\n",
       "      <td>0.0</td>\n",
       "      <td>0.051766</td>\n",
       "      <td>0.0</td>\n",
       "    </tr>\n",
       "    <tr>\n",
       "      <th>1</th>\n",
       "      <td>1.0</td>\n",
       "      <td>0.999967</td>\n",
       "      <td>1.0</td>\n",
       "    </tr>\n",
       "    <tr>\n",
       "      <th>2</th>\n",
       "      <td>0.0</td>\n",
       "      <td>0.436841</td>\n",
       "      <td>0.0</td>\n",
       "    </tr>\n",
       "    <tr>\n",
       "      <th>3</th>\n",
       "      <td>1.0</td>\n",
       "      <td>1.000000</td>\n",
       "      <td>1.0</td>\n",
       "    </tr>\n",
       "    <tr>\n",
       "      <th>4</th>\n",
       "      <td>1.0</td>\n",
       "      <td>0.704796</td>\n",
       "      <td>1.0</td>\n",
       "    </tr>\n",
       "    <tr>\n",
       "      <th>5</th>\n",
       "      <td>0.0</td>\n",
       "      <td>0.956414</td>\n",
       "      <td>1.0</td>\n",
       "    </tr>\n",
       "    <tr>\n",
       "      <th>6</th>\n",
       "      <td>1.0</td>\n",
       "      <td>0.999300</td>\n",
       "      <td>1.0</td>\n",
       "    </tr>\n",
       "    <tr>\n",
       "      <th>7</th>\n",
       "      <td>1.0</td>\n",
       "      <td>0.999999</td>\n",
       "      <td>1.0</td>\n",
       "    </tr>\n",
       "    <tr>\n",
       "      <th>8</th>\n",
       "      <td>1.0</td>\n",
       "      <td>0.708916</td>\n",
       "      <td>1.0</td>\n",
       "    </tr>\n",
       "    <tr>\n",
       "      <th>9</th>\n",
       "      <td>0.0</td>\n",
       "      <td>0.746341</td>\n",
       "      <td>1.0</td>\n",
       "    </tr>\n",
       "  </tbody>\n",
       "</table>\n",
       "</div>"
      ],
      "text/plain": [
       "   y_train    y_pred  y_train_pred_bool\n",
       "0      0.0  0.051766                0.0\n",
       "1      1.0  0.999967                1.0\n",
       "2      0.0  0.436841                0.0\n",
       "3      1.0  1.000000                1.0\n",
       "4      1.0  0.704796                1.0\n",
       "5      0.0  0.956414                1.0\n",
       "6      1.0  0.999300                1.0\n",
       "7      1.0  0.999999                1.0\n",
       "8      1.0  0.708916                1.0\n",
       "9      0.0  0.746341                1.0"
      ]
     },
     "execution_count": 69,
     "metadata": {},
     "output_type": "execute_result"
    }
   ],
   "source": [
    "train_output=pd.DataFrame({'y_train':y_train['label'],'y_pred':y_train_pred,'y_train_pred_bool':y_train_pred_bool})\n",
    "test_output=pd.DataFrame({'y_test':y_test['label'],'y_pred':y_pred,'y_pred_bool':y_pred_bool})\n",
    "\n",
    "train_output['y_train'].fillna(0,inplace=True)\n",
    "test_output['y_test'].fillna(0,inplace=True)\n",
    "\n",
    "train_output.head(10)"
   ]
  },
  {
   "cell_type": "code",
   "execution_count": 70,
   "metadata": {},
   "outputs": [],
   "source": [
    "def draw_roc( actual, probs ):\n",
    "    fpr, tpr, thresholds = metrics.roc_curve( actual, probs,\n",
    "                                              drop_intermediate = False )\n",
    "    auc_score = metrics.roc_auc_score( actual, probs )\n",
    "    plt.figure(figsize=(5, 5))\n",
    "    plt.plot( fpr, tpr, label='ROC curve (area = %0.2f)' % auc_score )\n",
    "    plt.plot([0, 1], [0, 1], 'k--')\n",
    "    plt.xlim([0.0, 1.0])\n",
    "    plt.ylim([0.0, 1.05])\n",
    "    plt.xlabel('False Positive Rate or [1 - True Negative Rate]')\n",
    "    plt.ylabel('True Positive Rate')\n",
    "    plt.title('Receiver operating characteristic example')\n",
    "    plt.legend(loc=\"lower right\")\n",
    "    plt.show()\n",
    "\n",
    "    return None"
   ]
  },
  {
   "cell_type": "code",
   "execution_count": 71,
   "metadata": {},
   "outputs": [
    {
     "data": {
      "image/png": "[encoded data removed]",
      "text/plain": [
       "<Figure size 360x360 with 1 Axes>"
      ]
     },
     "metadata": {
      "needs_background": "light"
     },
     "output_type": "display_data"
    }
   ],
   "source": [
    "fpr, tpr, thresholds = metrics.roc_curve(y_train,y_train_pred , drop_intermediate = False )\n",
    "\n",
    "draw_roc(y_train,y_train_pred)"
   ]
  },
  {
   "cell_type": "code",
   "execution_count": 72,
   "metadata": {},
   "outputs": [
    {
     "data": {
      "image/png": "[encoded data removed]",
      "text/plain": [
       "<Figure size 360x360 with 1 Axes>"
      ]
     },
     "metadata": {
      "needs_background": "light"
     },
     "output_type": "display_data"
    }
   ],
   "source": [
    "draw_roc(y_test,y_pred)"
   ]
  },
  {
   "cell_type": "code",
   "execution_count": 73,
   "metadata": {},
   "outputs": [
    {
     "name": "stdout",
     "output_type": "stream",
     "text": [
      "     prob  accuracy  sensi  speci\n",
      "0.0   0.0  0.940749    1.0    0.0\n",
      "0.1   0.1  0.000000    0.0    NaN\n",
      "0.2   0.2  0.000000    0.0    NaN\n",
      "0.3   0.3  0.000000    0.0    NaN\n",
      "0.4   0.4  0.000000    0.0    NaN\n",
      "0.5   0.5  0.000000    0.0    NaN\n",
      "0.6   0.6  0.000000    0.0    NaN\n",
      "0.7   0.7  0.000000    0.0    NaN\n",
      "0.8   0.8  0.000000    0.0    NaN\n",
      "0.9   0.9  0.000000    0.0    NaN\n"
     ]
    }
   ],
   "source": [
    "# Now let's calculate accuracy sensitivity and specificity for various probability cutoffs.\n",
    "cutoff_df = pd.DataFrame( columns = ['prob','accuracy','sensi','speci'])\n",
    "from sklearn.metrics import confusion_matrix\n",
    "\n",
    "# confusion=confusion_matrix(df['y'],df['y_prob'])\n",
    "\n",
    "# TP = confusion[1,1] # true positive \n",
    "# TN = confusion[0,0] # true negatives\n",
    "# FP = confusion[0,1] # false positives\n",
    "# FN = confusion[1,0] # false negatives\n",
    "\n",
    "def threshold_optimization(y,num):\n",
    "    #pass the prediction_probability series and threshold probabilty cutoff\n",
    "    y_bool= y.apply(lambda x: 1 if x>=num else -1)\n",
    "    return y_bool\n",
    "\n",
    "num = [0.0,0.1,0.2,0.3,0.4,0.5,0.6,0.7,0.8,0.9]\n",
    "for i in num:\n",
    "    cm1 = metrics.confusion_matrix(y_train,threshold_optimization(y_train_pred,i))\n",
    "#     print(cm1)\n",
    "    total1=sum(sum(cm1))\n",
    "    accuracy = (cm1[0,0]+cm1[1,1])/total1\n",
    "    \n",
    "    speci = cm1[0,0]/(cm1[0,0]+cm1[0,1])\n",
    "    sensi = cm1[1,1]/(cm1[1,0]+cm1[1,1])\n",
    "    cutoff_df.loc[i] =[ i ,accuracy,sensi,speci]\n",
    "print(cutoff_df)"
   ]
  },
  {
   "cell_type": "code",
   "execution_count": 74,
   "metadata": {},
   "outputs": [
    {
     "data": {
      "image/png": "[encoded data removed]",
      "text/plain": [
       "<Figure size 432x288 with 1 Axes>"
      ]
     },
     "metadata": {
      "needs_background": "light"
     },
     "output_type": "display_data"
    }
   ],
   "source": [
    "\n",
    "cutoff_df.plot.line(x='prob', y=['accuracy','sensi','speci'])\n",
    "plt.show()"
   ]
  },
  {
   "cell_type": "code",
   "execution_count": 109,
   "metadata": {},
   "outputs": [],
   "source": [
    "cross_validated_train_metrics=get_cross_validated_model_metrics(train_vector, y_train,5)"
   ]
  },
  {
   "cell_type": "code",
   "execution_count": 110,
   "metadata": {},
   "outputs": [
    {
     "data": {
      "text/html": [
       "<div>\n",
       "<style scoped>\n",
       "    .dataframe tbody tr th:only-of-type {\n",
       "        vertical-align: middle;\n",
       "    }\n",
       "\n",
       "    .dataframe tbody tr th {\n",
       "        vertical-align: top;\n",
       "    }\n",
       "\n",
       "    .dataframe thead th {\n",
       "        text-align: right;\n",
       "    }\n",
       "</style>\n",
       "<table border=\"1\" class=\"dataframe\">\n",
       "  <thead>\n",
       "    <tr style=\"text-align: right;\">\n",
       "      <th></th>\n",
       "      <th>accuracy</th>\n",
       "      <th>precision</th>\n",
       "      <th>recall</th>\n",
       "      <th>f1_weighted</th>\n",
       "      <th>roc_auc</th>\n",
       "    </tr>\n",
       "  </thead>\n",
       "  <tbody>\n",
       "    <tr>\n",
       "      <th>0</th>\n",
       "      <td>0.880261</td>\n",
       "      <td>0.964609</td>\n",
       "      <td>0.905955</td>\n",
       "      <td>0.897869</td>\n",
       "      <td>0.778740</td>\n",
       "    </tr>\n",
       "    <tr>\n",
       "      <th>1</th>\n",
       "      <td>0.890782</td>\n",
       "      <td>0.967505</td>\n",
       "      <td>0.914619</td>\n",
       "      <td>0.905769</td>\n",
       "      <td>0.800183</td>\n",
       "    </tr>\n",
       "    <tr>\n",
       "      <th>2</th>\n",
       "      <td>0.881743</td>\n",
       "      <td>0.961423</td>\n",
       "      <td>0.910838</td>\n",
       "      <td>0.897560</td>\n",
       "      <td>0.745409</td>\n",
       "    </tr>\n",
       "    <tr>\n",
       "      <th>3</th>\n",
       "      <td>0.883076</td>\n",
       "      <td>0.962710</td>\n",
       "      <td>0.910996</td>\n",
       "      <td>0.898935</td>\n",
       "      <td>0.757161</td>\n",
       "    </tr>\n",
       "    <tr>\n",
       "      <th>4</th>\n",
       "      <td>0.882745</td>\n",
       "      <td>0.962230</td>\n",
       "      <td>0.911139</td>\n",
       "      <td>0.898554</td>\n",
       "      <td>0.750228</td>\n",
       "    </tr>\n",
       "  </tbody>\n",
       "</table>\n",
       "</div>"
      ],
      "text/plain": [
       "   accuracy  precision    recall  f1_weighted   roc_auc\n",
       "0  0.880261   0.964609  0.905955     0.897869  0.778740\n",
       "1  0.890782   0.967505  0.914619     0.905769  0.800183\n",
       "2  0.881743   0.961423  0.910838     0.897560  0.745409\n",
       "3  0.883076   0.962710  0.910996     0.898935  0.757161\n",
       "4  0.882745   0.962230  0.911139     0.898554  0.750228"
      ]
     },
     "execution_count": 110,
     "metadata": {},
     "output_type": "execute_result"
    }
   ],
   "source": [
    "cross_validated_train_metrics"
   ]
  },
  {
   "cell_type": "code",
   "execution_count": 111,
   "metadata": {},
   "outputs": [
    {
     "data": {
      "text/plain": [
       "accuracy       0.883722\n",
       "precision      0.963696\n",
       "recall         0.910709\n",
       "f1_weighted    0.899737\n",
       "roc_auc        0.766344\n",
       "dtype: float64"
      ]
     },
     "execution_count": 111,
     "metadata": {},
     "output_type": "execute_result"
    }
   ],
   "source": [
    "cross_validated_train_metrics.mean()"
   ]
  },
  {
   "cell_type": "markdown",
   "metadata": {},
   "source": [
    "## Naive Bayes"
   ]
  },
  {
   "cell_type": "code",
   "execution_count": 79,
   "metadata": {},
   "outputs": [],
   "source": [
    "# training the NB model and making predictions\n",
    "from sklearn.naive_bayes import MultinomialNB\n",
    "mnb = MultinomialNB()\n",
    "\n",
    "# fit\n",
    "mnb.fit(train_vector,y_train)\n",
    "\n",
    "# predict class\n",
    "y_pred_class = mnb.predict(test_vector)\n",
    "\n",
    "# predict probabilities\n",
    "y_pred_proba = mnb.predict_proba(test_vector)\n"
   ]
  },
  {
   "cell_type": "code",
   "execution_count": 80,
   "metadata": {},
   "outputs": [],
   "source": [
    "# predict class\n",
    "y_train_pred_class = mnb.predict(train_vector)\n",
    "\n",
    "# predict probabilities\n",
    "y_train_pred_proba = mnb.predict_proba(train_vector)"
   ]
  },
  {
   "cell_type": "code",
   "execution_count": 81,
   "metadata": {},
   "outputs": [
    {
     "data": {
      "text/plain": [
       "MultinomialNB(alpha=1.0, class_prior=None, fit_prior=True)"
      ]
     },
     "execution_count": 81,
     "metadata": {},
     "output_type": "execute_result"
    }
   ],
   "source": [
    "mnb"
   ]
  },
  {
   "cell_type": "code",
   "execution_count": 82,
   "metadata": {},
   "outputs": [
    {
     "data": {
      "text/plain": [
       "array([[  565,  1434],\n",
       "       [  205, 31534]])"
      ]
     },
     "execution_count": 82,
     "metadata": {},
     "output_type": "execute_result"
    }
   ],
   "source": [
    "metrics.confusion_matrix(y_train, y_train_pred_class)"
   ]
  },
  {
   "cell_type": "code",
   "execution_count": 83,
   "metadata": {},
   "outputs": [
    {
     "data": {
      "text/plain": [
       "array([[  121,   736],\n",
       "       [   62, 13541]])"
      ]
     },
     "execution_count": 83,
     "metadata": {},
     "output_type": "execute_result"
    }
   ],
   "source": [
    "metrics.confusion_matrix(y_test, y_pred_class)"
   ]
  },
  {
   "cell_type": "code",
   "execution_count": 84,
   "metadata": {},
   "outputs": [
    {
     "name": "stdout",
     "output_type": "stream",
     "text": [
      "Accuracy    : 0.94\n",
      "Sensitivity : 1.0\n",
      "Specificity : 0.14\n",
      "Precision   : 0.95\n",
      "Recall      : 1.0\n",
      "F1_score    : 0.93\n"
     ]
    }
   ],
   "source": [
    "get_model_metrics(y_test, y_pred_class)"
   ]
  },
  {
   "cell_type": "code",
   "execution_count": 85,
   "metadata": {},
   "outputs": [],
   "source": [
    "# creating an ROC curve\n",
    "\n",
    "false_positive_rate, true_positive_rate, thresholds = roc_curve(y_test, y_pred_proba[:,1])\n",
    "roc_auc = auc(false_positive_rate, true_positive_rate)"
   ]
  },
  {
   "cell_type": "code",
   "execution_count": 86,
   "metadata": {},
   "outputs": [
    {
     "name": "stdout",
     "output_type": "stream",
     "text": [
      "0.7748993353875282\n"
     ]
    }
   ],
   "source": [
    "print (roc_auc)"
   ]
  },
  {
   "cell_type": "code",
   "execution_count": 87,
   "metadata": {},
   "outputs": [
    {
     "data": {
      "text/html": [
       "<div>\n",
       "<style scoped>\n",
       "    .dataframe tbody tr th:only-of-type {\n",
       "        vertical-align: middle;\n",
       "    }\n",
       "\n",
       "    .dataframe tbody tr th {\n",
       "        vertical-align: top;\n",
       "    }\n",
       "\n",
       "    .dataframe thead th {\n",
       "        text-align: right;\n",
       "    }\n",
       "</style>\n",
       "<table border=\"1\" class=\"dataframe\">\n",
       "  <thead>\n",
       "    <tr style=\"text-align: right;\">\n",
       "      <th></th>\n",
       "      <th>Threshold</th>\n",
       "      <th>TPR</th>\n",
       "      <th>FPR</th>\n",
       "    </tr>\n",
       "  </thead>\n",
       "  <tbody>\n",
       "    <tr>\n",
       "      <th>0</th>\n",
       "      <td>2.0</td>\n",
       "      <td>0.000000</td>\n",
       "      <td>0.0</td>\n",
       "    </tr>\n",
       "    <tr>\n",
       "      <th>1</th>\n",
       "      <td>1.0</td>\n",
       "      <td>0.008307</td>\n",
       "      <td>0.0</td>\n",
       "    </tr>\n",
       "    <tr>\n",
       "      <th>2</th>\n",
       "      <td>1.0</td>\n",
       "      <td>0.008748</td>\n",
       "      <td>0.0</td>\n",
       "    </tr>\n",
       "    <tr>\n",
       "      <th>3</th>\n",
       "      <td>1.0</td>\n",
       "      <td>0.009336</td>\n",
       "      <td>0.0</td>\n",
       "    </tr>\n",
       "    <tr>\n",
       "      <th>4</th>\n",
       "      <td>1.0</td>\n",
       "      <td>0.009557</td>\n",
       "      <td>0.0</td>\n",
       "    </tr>\n",
       "  </tbody>\n",
       "</table>\n",
       "</div>"
      ],
      "text/plain": [
       "   Threshold       TPR  FPR\n",
       "0        2.0  0.000000  0.0\n",
       "1        1.0  0.008307  0.0\n",
       "2        1.0  0.008748  0.0\n",
       "3        1.0  0.009336  0.0\n",
       "4        1.0  0.009557  0.0"
      ]
     },
     "execution_count": 87,
     "metadata": {},
     "output_type": "execute_result"
    }
   ],
   "source": [
    "# matrix of thresholds, tpr, fpr\n",
    "pd.DataFrame({'Threshold': thresholds, \n",
    "              'TPR': true_positive_rate, \n",
    "              'FPR':false_positive_rate\n",
    "             }).head()"
   ]
  },
  {
   "cell_type": "code",
   "execution_count": 88,
   "metadata": {},
   "outputs": [
    {
     "data": {
      "text/plain": [
       "[<matplotlib.lines.Line2D at 0x1c2e87da0>]"
      ]
     },
     "execution_count": 88,
     "metadata": {},
     "output_type": "execute_result"
    },
    {
     "data": {
      "image/png": "[encoded data removed]",
      "text/plain": [
       "<Figure size 432x288 with 1 Axes>"
      ]
     },
     "metadata": {
      "needs_background": "light"
     },
     "output_type": "display_data"
    }
   ],
   "source": [
    "# plotting the ROC curve\n",
    "%matplotlib inline  \n",
    "plt.ylabel('True Positive Rate')\n",
    "plt.xlabel('False Positive Rate')\n",
    "plt.title('ROC')\n",
    "plt.plot(false_positive_rate, true_positive_rate)"
   ]
  },
  {
   "cell_type": "markdown",
   "metadata": {},
   "source": [
    "## Bernoulli Naive Bayes"
   ]
  },
  {
   "cell_type": "code",
   "execution_count": 89,
   "metadata": {},
   "outputs": [],
   "source": [
    "from sklearn.naive_bayes import BernoulliNB\n",
    "\n",
    "# instantiate bernoulli NB object\n",
    "bnb = BernoulliNB()\n",
    "\n",
    "# fit \n",
    "bnb.fit(train_vector,y_train)\n",
    "\n",
    "# predict class\n",
    "y_pred_class = bnb.predict(test_vector)\n",
    "\n",
    "# predict probability\n",
    "y_pred_proba =bnb.predict_proba(test_vector)\n",
    "\n",
    "# predict train class\n",
    "y_train_pred_class = bnb.predict(train_vector)\n",
    "\n",
    "# predict train probability\n",
    "y_train_pred_proba =bnb.predict_proba(train_vector)\n"
   ]
  },
  {
   "cell_type": "code",
   "execution_count": 90,
   "metadata": {},
   "outputs": [
    {
     "data": {
      "text/plain": [
       "BernoulliNB(alpha=1.0, binarize=0.0, class_prior=None, fit_prior=True)"
      ]
     },
     "execution_count": 90,
     "metadata": {},
     "output_type": "execute_result"
    }
   ],
   "source": [
    "bnb"
   ]
  },
  {
   "cell_type": "code",
   "execution_count": 91,
   "metadata": {},
   "outputs": [
    {
     "data": {
      "text/plain": [
       "array([[  485,  1514],\n",
       "       [ 1237, 30502]])"
      ]
     },
     "execution_count": 91,
     "metadata": {},
     "output_type": "execute_result"
    }
   ],
   "source": [
    "metrics.confusion_matrix(y_train,y_train_pred_class)"
   ]
  },
  {
   "cell_type": "code",
   "execution_count": 92,
   "metadata": {},
   "outputs": [
    {
     "data": {
      "text/plain": [
       "array([[  131,   726],\n",
       "       [  468, 13135]])"
      ]
     },
     "execution_count": 92,
     "metadata": {},
     "output_type": "execute_result"
    }
   ],
   "source": [
    "metrics.confusion_matrix(y_test, y_pred_class)"
   ]
  },
  {
   "cell_type": "code",
   "execution_count": 93,
   "metadata": {},
   "outputs": [
    {
     "name": "stdout",
     "output_type": "stream",
     "text": [
      "Accuracy    : 0.92\n",
      "Sensitivity : 0.97\n",
      "Specificity : 0.15\n",
      "Precision   : 0.95\n",
      "Recall      : 0.97\n",
      "F1_score    : 0.91\n"
     ]
    }
   ],
   "source": [
    "get_model_metrics(y_test, y_pred_class)"
   ]
  },
  {
   "cell_type": "code",
   "execution_count": 94,
   "metadata": {},
   "outputs": [],
   "source": [
    "# from sklearn.feature_extraction.text import CountVectorizer\n",
    "# from nltk.tokenize import RegexpTokenizer\n",
    "# #tokenizer to remove unwanted elements from out data like symbols and numbers\n",
    "# token = RegexpTokenizer(r'[a-zA-Z0-9]+')\n",
    "# cv = CountVectorizer(lowercase=True,stop_words='english',ngram_range = (1,1),tokenizer = token.tokenize)\n",
    "# text_counts= cv.fit_transform(X_train[\"clean_sentence\"])"
   ]
  },
  {
   "cell_type": "code",
   "execution_count": 95,
   "metadata": {},
   "outputs": [],
   "source": [
    "# # get all unique words in the corpus\n",
    "# vocab = vectorizer.get_feature_names()\n",
    "# # show document feature vectors\n",
    "# pd.DataFrame(train_vector, columns=vocab)"
   ]
  },
  {
   "cell_type": "code",
   "execution_count": null,
   "metadata": {},
   "outputs": [],
   "source": []
  },
  {
   "cell_type": "code",
   "execution_count": 96,
   "metadata": {},
   "outputs": [],
   "source": [
    "# creating an ROC curve\n",
    "from sklearn.metrics import confusion_matrix as sk_confusion_matrix\n",
    "from sklearn.metrics import roc_curve, auc\n",
    "import matplotlib.pyplot as plt\n",
    "\n",
    "false_positive_rate, true_positive_rate, thresholds = roc_curve(y_test, y_pred_proba[:,1])\n",
    "roc_auc = auc(false_positive_rate, true_positive_rate)"
   ]
  },
  {
   "cell_type": "code",
   "execution_count": 97,
   "metadata": {},
   "outputs": [
    {
     "name": "stdout",
     "output_type": "stream",
     "text": [
      "0.7705801134710915\n"
     ]
    }
   ],
   "source": [
    "print (roc_auc)"
   ]
  },
  {
   "cell_type": "code",
   "execution_count": 98,
   "metadata": {},
   "outputs": [
    {
     "data": {
      "text/html": [
       "<div>\n",
       "<style scoped>\n",
       "    .dataframe tbody tr th:only-of-type {\n",
       "        vertical-align: middle;\n",
       "    }\n",
       "\n",
       "    .dataframe tbody tr th {\n",
       "        vertical-align: top;\n",
       "    }\n",
       "\n",
       "    .dataframe thead th {\n",
       "        text-align: right;\n",
       "    }\n",
       "</style>\n",
       "<table border=\"1\" class=\"dataframe\">\n",
       "  <thead>\n",
       "    <tr style=\"text-align: right;\">\n",
       "      <th></th>\n",
       "      <th>Threshold</th>\n",
       "      <th>TPR</th>\n",
       "      <th>FPR</th>\n",
       "    </tr>\n",
       "  </thead>\n",
       "  <tbody>\n",
       "    <tr>\n",
       "      <th>0</th>\n",
       "      <td>2.0</td>\n",
       "      <td>0.000000</td>\n",
       "      <td>0.000000</td>\n",
       "    </tr>\n",
       "    <tr>\n",
       "      <th>1</th>\n",
       "      <td>1.0</td>\n",
       "      <td>0.000074</td>\n",
       "      <td>0.000000</td>\n",
       "    </tr>\n",
       "    <tr>\n",
       "      <th>2</th>\n",
       "      <td>1.0</td>\n",
       "      <td>0.046460</td>\n",
       "      <td>0.000000</td>\n",
       "    </tr>\n",
       "    <tr>\n",
       "      <th>3</th>\n",
       "      <td>1.0</td>\n",
       "      <td>0.046460</td>\n",
       "      <td>0.001167</td>\n",
       "    </tr>\n",
       "    <tr>\n",
       "      <th>4</th>\n",
       "      <td>1.0</td>\n",
       "      <td>0.048151</td>\n",
       "      <td>0.001167</td>\n",
       "    </tr>\n",
       "  </tbody>\n",
       "</table>\n",
       "</div>"
      ],
      "text/plain": [
       "   Threshold       TPR       FPR\n",
       "0        2.0  0.000000  0.000000\n",
       "1        1.0  0.000074  0.000000\n",
       "2        1.0  0.046460  0.000000\n",
       "3        1.0  0.046460  0.001167\n",
       "4        1.0  0.048151  0.001167"
      ]
     },
     "execution_count": 98,
     "metadata": {},
     "output_type": "execute_result"
    }
   ],
   "source": [
    "# matrix of thresholds, tpr, fpr\n",
    "pd.DataFrame({'Threshold': thresholds, \n",
    "              'TPR': true_positive_rate, \n",
    "              'FPR':false_positive_rate\n",
    "             }).head()"
   ]
  },
  {
   "cell_type": "code",
   "execution_count": 99,
   "metadata": {},
   "outputs": [
    {
     "data": {
      "text/plain": [
       "[<matplotlib.lines.Line2D at 0x11ad56278>]"
      ]
     },
     "execution_count": 99,
     "metadata": {},
     "output_type": "execute_result"
    },
    {
     "data": {
      "image/png": "[encoded data removed]",
      "text/plain": [
       "<Figure size 432x288 with 1 Axes>"
      ]
     },
     "metadata": {
      "needs_background": "light"
     },
     "output_type": "display_data"
    }
   ],
   "source": [
    "# plotting the ROC curve\n",
    "%matplotlib inline  \n",
    "plt.ylabel('True Positive Rate')\n",
    "plt.xlabel('False Positive Rate')\n",
    "plt.title('ROC')\n",
    "plt.plot(false_positive_rate, true_positive_rate)"
   ]
  },
  {
   "cell_type": "code",
   "execution_count": 100,
   "metadata": {},
   "outputs": [],
   "source": [
    "\n",
    "# # you can set the n-gram range to 1,2 to get unigrams as well as bigrams\n",
    "# bv = CountVectorizer(ngram_range=(2,2))\n",
    "# bv_matrix = bv.fit_transform(norm_corpus)\n",
    "\n",
    "# bv_matrix = bv_matrix.toarray()\n",
    "# vocab = bv.get_feature_names()\n",
    "# pd.DataFrame(bv_matrix, columns=vocab)"
   ]
  },
  {
   "cell_type": "code",
   "execution_count": 101,
   "metadata": {},
   "outputs": [],
   "source": [
    "# from sklearn.feature_extraction.text import TfidfVectorizer\n",
    "\n",
    "# tv = TfidfVectorizer(min_df=0., max_df=1., use_idf=True)\n",
    "# tv_matrix = tv.fit_transform(norm_corpus)\n",
    "# tv_matrix = tv_matrix.toarray()\n",
    "\n",
    "# vocab = tv.get_feature_names()\n",
    "# pd.DataFrame(np.round(tv_matrix, 2), columns=vocab)"
   ]
  },
  {
   "cell_type": "code",
   "execution_count": null,
   "metadata": {},
   "outputs": [],
   "source": []
  },
  {
   "cell_type": "code",
   "execution_count": 102,
   "metadata": {},
   "outputs": [],
   "source": [
    "# from sklearn.metrics.pairwise import cosine_similarity\n",
    "\n",
    "# similarity_matrix = cosine_similarity(tv_matrix)\n",
    "# similarity_df = pd.DataFrame(similarity_matrix)\n",
    "# similarity_df"
   ]
  },
  {
   "cell_type": "code",
   "execution_count": 103,
   "metadata": {},
   "outputs": [],
   "source": [
    "# from scipy.cluster.hierarchy import dendrogram, linkage\n",
    "\n",
    "# Z = linkage(similarity_matrix, 'ward')\n",
    "# pd.DataFrame(Z, columns=['Document\\Cluster 1', 'Document\\Cluster 2', \n",
    "#                          'Distance', 'Cluster Size'], dtype='object')"
   ]
  },
  {
   "cell_type": "code",
   "execution_count": 104,
   "metadata": {},
   "outputs": [],
   "source": [
    "# plt.figure(figsize=(8, 3))\n",
    "# plt.title('Hierarchical Clustering Dendrogram')\n",
    "# plt.xlabel('Data point')\n",
    "# plt.ylabel('Distance')\n",
    "# dendrogram(Z)\n",
    "# plt.axhline(y=1.0, c='k', ls='--', lw=0.5)"
   ]
  },
  {
   "cell_type": "code",
   "execution_count": 105,
   "metadata": {},
   "outputs": [],
   "source": [
    "\n",
    "# from scipy.cluster.hierarchy import fcluster\n",
    "# max_dist = 1.0\n",
    "\n",
    "# cluster_labels = fcluster(Z, max_dist, criterion='distance')\n",
    "# cluster_labels = pd.DataFrame(cluster_labels, columns=['ClusterLabel'])\n",
    "# pd.concat([corpus_df, cluster_labels], axis=1)"
   ]
  },
  {
   "cell_type": "code",
   "execution_count": 106,
   "metadata": {},
   "outputs": [],
   "source": [
    "# from sklearn.decomposition import LatentDirichletAllocation\n",
    "\n",
    "# lda = LatentDirichletAllocation(n_topics=3, max_iter=10000, random_state=0)\n",
    "# dt_matrix = lda.fit_transform(cv_matrix)\n",
    "# features = pd.DataFrame(dt_matrix, columns=['T1', 'T2', 'T3'])\n",
    "# features"
   ]
  },
  {
   "cell_type": "code",
   "execution_count": 107,
   "metadata": {},
   "outputs": [],
   "source": [
    "# tt_matrix = lda.components_\n",
    "# for topic_weights in tt_matrix:\n",
    "#     topic = [(token, weight) for token, weight in zip(vocab, topic_weights)]\n",
    "#     topic = sorted(topic, key=lambda x: -x[1])\n",
    "#     topic = [item for item in topic if item[1] > 0.6]\n",
    "#     print(topic)\n",
    "#     print()"
   ]
  },
  {
   "cell_type": "code",
   "execution_count": 108,
   "metadata": {},
   "outputs": [],
   "source": [
    "# from sklearn.cluster import KMeans\n",
    "\n",
    "# km = KMeans(n_clusters=3, random_state=0)\n",
    "# km.fit_transform(features)\n",
    "# cluster_labels = km.labels_\n",
    "# cluster_labels = pd.DataFrame(cluster_labels, columns=['ClusterLabel'])\n",
    "# pd.concat([corpus_df, cluster_labels], axis=1)"
   ]
  }
 ],
 "metadata": {
  "kernelspec": {
   "display_name": "Python 3",
   "language": "python",
   "name": "python3"
  },
  "language_info": {
   "codemirror_mode": {
    "name": "ipython",
    "version": 3
   },
   "file_extension": ".py",
   "mimetype": "text/x-python",
   "name": "python",
   "nbconvert_exporter": "python",
   "pygments_lexer": "ipython3",
   "version": "3.7.3"
  }
 },
 "nbformat": 4,
 "nbformat_minor": 2
}
