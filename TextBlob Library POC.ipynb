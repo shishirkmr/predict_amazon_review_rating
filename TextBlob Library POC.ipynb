{
 "cells": [
  {
   "cell_type": "code",
   "execution_count": 1,
   "metadata": {},
   "outputs": [],
   "source": [
    "#Import pandas\n",
    "import pandas as pd\n",
    "import numpy as np\n",
    "import nltk\n",
    "from nltk import sent_tokenize\n",
    "from textblob import TextBlob\n",
    "from textblob import Word\n",
    "from nltk import ngrams\n",
    "#import plots\n",
    "import matplotlib.pyplot as plt\n",
    "import seaborn as sns\n",
    "from gensim.models import Phrases\n",
    "from gensim.models.phrases import Phraser\n",
    "import gensim.models.keyedvectors as word2vec\n",
    "\n",
    "%matplotlib inline"
   ]
  },
  {
   "cell_type": "code",
   "execution_count": 2,
   "metadata": {},
   "outputs": [],
   "source": [
    "s0 = \"very good looking. Average product by Honor. For 2000 bucks, it is really a good option to buy. Easy to use and looks durable\"\n",
    "s1 = \"very good looking. Among the best premium wireless headphones. Must buy-product.\"\n",
    "s2 = \"very good looking. No refund received for microwave oven, delivery guys was quite ignorant to our complaints and queries.\"\n",
    "s3 = \"Very bad experience with the router. Cables are completely damaged.\"\n",
    "s4 = \"Purchased the product based on Mi Brand. Product proves to be a disappointment. Worst Led TV in the market.Pathetic after sales service.\"\n",
    "s5 = \"very good looking. This earbuds are awesome. Completely value for money.\""
   ]
  },
  {
   "cell_type": "code",
   "execution_count": 3,
   "metadata": {},
   "outputs": [],
   "source": [
    "rev_list = [s0,s1,s2,s3,s4,s5]\n",
    "new_list = []\n",
    "for i in rev_list:\n",
    "    new_list.append(i)\n",
    "sample = pd.DataFrame(new_list, columns = ['reviews'])\n",
    "sample['ratings'] = [1,1,0,0,0,1]"
   ]
  },
  {
   "cell_type": "code",
   "execution_count": 4,
   "metadata": {},
   "outputs": [],
   "source": [
    "#documents = [\"the mayor of new york was there\", \"machine learning can be useful sometimes\"]"
   ]
  },
  {
   "cell_type": "markdown",
   "metadata": {},
   "source": [
    "def get_bigrams(col):\n",
    "    sentence_stream = [doc.split(\" \") for doc in col]\n",
    "    bigram = Phrases(sentence_stream, min_count=1, delimiter=b' ')\n",
    "    for sent in sentence_stream:\n",
    "        bigrams = [b for b in bigram[sent] if b.count(' ') == 1]\n",
    "    return bigrams\n",
    "    \n",
    "def get_trigrams(col):\n",
    "    sentence_stream = [doc.split(\" \") for doc in col]\n",
    "    trigram = Phrases(bigram[sentence_stream], min_count=1, delimiter=b' ')\n",
    "    for sent in sentence_stream:\n",
    "        trigrams = [t for t in trigram[bigram[sent]] if t.count(' ') == 2]\n",
    "    return trigrams\n",
    "get_trigrams(sample['reviews'])"
   ]
  },
  {
   "cell_type": "code",
   "execution_count": 5,
   "metadata": {},
   "outputs": [
    {
     "data": {
      "text/plain": [
       "{'very_good'}"
      ]
     },
     "execution_count": 5,
     "metadata": {},
     "output_type": "execute_result"
    }
   ],
   "source": [
    "#Usage of gensim in bigram and trigrams\n",
    "\n",
    "from gensim.models import Phrases\n",
    "from gensim.models.phrases import Phraser\n",
    "import gensim.models.keyedvectors as word2vec\n",
    "\n",
    "def make_bigrams(col):\n",
    "    sent = [doc.split(\" \") for doc in col]\n",
    "    bigram = Phrases(sent, min_count=1, threshold = 1)\n",
    "    corpus = [topic for topic in bigram[sent]]\n",
    "    bigram_set = set(word for item in corpus for word in item if '_' in word)\n",
    "    return bigram_set\n",
    "\n",
    "def make_trigrams(col):\n",
    "    sent = [doc.split(\" \") for doc in col]\n",
    "    trigram = Phrases(bigram[sent], min_count=1, threshold = 1)\n",
    "    corpus = [topic for topic in trigram[sent]]\n",
    "    trigram_set = set(word for item in corpus for word in item if word.count(\"_\") > 1)\n",
    "    return corpus\n",
    "\n",
    "make_bigrams(sample['reviews'])\n"
   ]
  },
  {
   "cell_type": "code",
   "execution_count": 6,
   "metadata": {},
   "outputs": [],
   "source": [
    "def detect_polarity(col):\n",
    "    return TextBlob(col).sentiment.polarity\n",
    "def detect_subjectivity(col):\n",
    "    return TextBlob(col).sentiment.subjectivity\n",
    "def get_lemma(col):\n",
    "    lemma_list = []\n",
    "    text = TextBlob(col).words\n",
    "    for item in text:\n",
    "        lemma = Word(item).lemmatize()\n",
    "        lemma_list.append(lemma)\n",
    "    return lemma_list\n",
    "def detect_sentence_polarity(col):\n",
    "    scores = []\n",
    "    for sentences in TextBlob(col).sentences:\n",
    "        score = np.round(sentences.sentiment.polarity,2)\n",
    "        scores.append(score)\n",
    "    return scores\n",
    "def sentence_count(col_name, sign = 'total'):\n",
    "    count_list = []\n",
    "    for reviews in col_name:\n",
    "        total_count = len(sent_tokenize(reviews))\n",
    "        if sign == 'total':\n",
    "            count_list.append(total_count)\n",
    "        else:\n",
    "            count = 0\n",
    "            for sentence in sent_tokenize(reviews):\n",
    "                polarity = TextBlob(sentence).sentiment.polarity\n",
    "                if sign == 'positive' and polarity >= 0.2 :\n",
    "                    count += 1\n",
    "                elif sign == 'neutral' and polarity in (0,0.2):\n",
    "                    count += 1\n",
    "                elif sign == 'negative' and polarity <0 :\n",
    "                    count += 1\n",
    "            count_list.append(count)\n",
    "    return count_list \n",
    "\n",
    "def calc_percentage(col_name, sign = 'positive'):\n",
    "    count = sentence_count(col_name, sign)\n",
    "    total_count = sentence_count(col_name, 'total')\n",
    "    percent_list = [np.round((i / j)*100) for i, j in zip(count, total_count)]\n",
    "    return percent_list\n",
    "\n",
    "def negative_boolean(col):\n",
    "    value = 0\n",
    "    value_list = []\n",
    "    for sentence in col:\n",
    "        polarity = detect_polarity(sentence)\n",
    "        if polarity < 0:\n",
    "            value = 1\n",
    "        else: \n",
    "            value = 0\n",
    "        value_list.append(value)\n",
    "    return value_list\n",
    "\n",
    "filter_method = lambda x:'Highly Positive' if x >= 0.5 else 'Fairly Positive' if (x > 0 and x < 0.5) else 'Highly Negative' if x <= -0.5 else 'Fairly Negative' if (x > -0.5 and x < 0) else 'Neutral'"
   ]
  },
  {
   "cell_type": "code",
   "execution_count": 7,
   "metadata": {},
   "outputs": [
    {
     "data": {
      "text/html": [
       "<div>\n",
       "<style scoped>\n",
       "    .dataframe tbody tr th:only-of-type {\n",
       "        vertical-align: middle;\n",
       "    }\n",
       "\n",
       "    .dataframe tbody tr th {\n",
       "        vertical-align: top;\n",
       "    }\n",
       "\n",
       "    .dataframe thead th {\n",
       "        text-align: right;\n",
       "    }\n",
       "</style>\n",
       "<table border=\"1\" class=\"dataframe\">\n",
       "  <thead>\n",
       "    <tr style=\"text-align: right;\">\n",
       "      <th></th>\n",
       "      <th>reviews</th>\n",
       "      <th>ratings</th>\n",
       "      <th>polarity</th>\n",
       "      <th>subjectivity</th>\n",
       "      <th>sentiment</th>\n",
       "      <th>sentence_sentiment</th>\n",
       "      <th>lemma</th>\n",
       "      <th>#positive_sentences</th>\n",
       "      <th>#neutral_sentences</th>\n",
       "      <th>#negative_sentences</th>\n",
       "      <th>% positive_sentences</th>\n",
       "      <th>% negative_sentences</th>\n",
       "      <th>% neutral_sentences</th>\n",
       "      <th>negation_or_not</th>\n",
       "    </tr>\n",
       "  </thead>\n",
       "  <tbody>\n",
       "    <tr>\n",
       "      <th>0</th>\n",
       "      <td>very good looking. Average product by Honor. F...</td>\n",
       "      <td>1</td>\n",
       "      <td>0.5</td>\n",
       "      <td>0.7</td>\n",
       "      <td>Highly Positive</td>\n",
       "      <td>[0.91, -0.15, 0.7, 0.43]</td>\n",
       "      <td>[very, good, looking, Average, product, by, Ho...</td>\n",
       "      <td>3</td>\n",
       "      <td>0</td>\n",
       "      <td>1</td>\n",
       "      <td>75.0</td>\n",
       "      <td>25.0</td>\n",
       "      <td>0.0</td>\n",
       "      <td>0</td>\n",
       "    </tr>\n",
       "    <tr>\n",
       "      <th>1</th>\n",
       "      <td>very good looking. Among the best premium wire...</td>\n",
       "      <td>1</td>\n",
       "      <td>1.0</td>\n",
       "      <td>0.5</td>\n",
       "      <td>Highly Positive</td>\n",
       "      <td>[0.91, 1.0, 0.0]</td>\n",
       "      <td>[very, good, looking, Among, the, best, premiu...</td>\n",
       "      <td>2</td>\n",
       "      <td>1</td>\n",
       "      <td>0</td>\n",
       "      <td>67.0</td>\n",
       "      <td>0.0</td>\n",
       "      <td>33.0</td>\n",
       "      <td>0</td>\n",
       "    </tr>\n",
       "    <tr>\n",
       "      <th>2</th>\n",
       "      <td>very good looking. No refund received for micr...</td>\n",
       "      <td>0</td>\n",
       "      <td>0.9</td>\n",
       "      <td>0.8</td>\n",
       "      <td>Highly Positive</td>\n",
       "      <td>[0.91, 0.0]</td>\n",
       "      <td>[very, good, looking, No, refund, received, fo...</td>\n",
       "      <td>1</td>\n",
       "      <td>1</td>\n",
       "      <td>0</td>\n",
       "      <td>50.0</td>\n",
       "      <td>0.0</td>\n",
       "      <td>50.0</td>\n",
       "      <td>0</td>\n",
       "    </tr>\n",
       "    <tr>\n",
       "      <th>3</th>\n",
       "      <td>Very bad experience with the router. Cables ar...</td>\n",
       "      <td>0</td>\n",
       "      <td>-0.4</td>\n",
       "      <td>0.6</td>\n",
       "      <td>Fairly Negative</td>\n",
       "      <td>[-0.91, 0.1]</td>\n",
       "      <td>[Very, bad, experience, with, the, router, Cab...</td>\n",
       "      <td>0</td>\n",
       "      <td>0</td>\n",
       "      <td>1</td>\n",
       "      <td>0.0</td>\n",
       "      <td>50.0</td>\n",
       "      <td>0.0</td>\n",
       "      <td>1</td>\n",
       "    </tr>\n",
       "    <tr>\n",
       "      <th>4</th>\n",
       "      <td>Purchased the product based on Mi Brand. Produ...</td>\n",
       "      <td>0</td>\n",
       "      <td>-0.4</td>\n",
       "      <td>0.5</td>\n",
       "      <td>Fairly Negative</td>\n",
       "      <td>[0.0, -0.15, -1.0]</td>\n",
       "      <td>[Purchased, the, product, based, on, Mi, Brand...</td>\n",
       "      <td>0</td>\n",
       "      <td>1</td>\n",
       "      <td>2</td>\n",
       "      <td>0.0</td>\n",
       "      <td>67.0</td>\n",
       "      <td>33.0</td>\n",
       "      <td>1</td>\n",
       "    </tr>\n",
       "    <tr>\n",
       "      <th>5</th>\n",
       "      <td>very good looking. This earbuds are awesome. C...</td>\n",
       "      <td>1</td>\n",
       "      <td>0.7</td>\n",
       "      <td>0.7</td>\n",
       "      <td>Highly Positive</td>\n",
       "      <td>[0.91, 1.0, 0.1]</td>\n",
       "      <td>[very, good, looking, This, earbuds, are, awes...</td>\n",
       "      <td>2</td>\n",
       "      <td>0</td>\n",
       "      <td>0</td>\n",
       "      <td>67.0</td>\n",
       "      <td>0.0</td>\n",
       "      <td>0.0</td>\n",
       "      <td>0</td>\n",
       "    </tr>\n",
       "  </tbody>\n",
       "</table>\n",
       "</div>"
      ],
      "text/plain": [
       "                                             reviews  ratings  polarity  \\\n",
       "0  very good looking. Average product by Honor. F...        1       0.5   \n",
       "1  very good looking. Among the best premium wire...        1       1.0   \n",
       "2  very good looking. No refund received for micr...        0       0.9   \n",
       "3  Very bad experience with the router. Cables ar...        0      -0.4   \n",
       "4  Purchased the product based on Mi Brand. Produ...        0      -0.4   \n",
       "5  very good looking. This earbuds are awesome. C...        1       0.7   \n",
       "\n",
       "   subjectivity        sentiment        sentence_sentiment  \\\n",
       "0           0.7  Highly Positive  [0.91, -0.15, 0.7, 0.43]   \n",
       "1           0.5  Highly Positive          [0.91, 1.0, 0.0]   \n",
       "2           0.8  Highly Positive               [0.91, 0.0]   \n",
       "3           0.6  Fairly Negative              [-0.91, 0.1]   \n",
       "4           0.5  Fairly Negative        [0.0, -0.15, -1.0]   \n",
       "5           0.7  Highly Positive          [0.91, 1.0, 0.1]   \n",
       "\n",
       "                                               lemma  #positive_sentences  \\\n",
       "0  [very, good, looking, Average, product, by, Ho...                    3   \n",
       "1  [very, good, looking, Among, the, best, premiu...                    2   \n",
       "2  [very, good, looking, No, refund, received, fo...                    1   \n",
       "3  [Very, bad, experience, with, the, router, Cab...                    0   \n",
       "4  [Purchased, the, product, based, on, Mi, Brand...                    0   \n",
       "5  [very, good, looking, This, earbuds, are, awes...                    2   \n",
       "\n",
       "   #neutral_sentences  #negative_sentences  % positive_sentences  \\\n",
       "0                   0                    1                  75.0   \n",
       "1                   1                    0                  67.0   \n",
       "2                   1                    0                  50.0   \n",
       "3                   0                    1                   0.0   \n",
       "4                   1                    2                   0.0   \n",
       "5                   0                    0                  67.0   \n",
       "\n",
       "   % negative_sentences  % neutral_sentences  negation_or_not  \n",
       "0                  25.0                  0.0                0  \n",
       "1                   0.0                 33.0                0  \n",
       "2                   0.0                 50.0                0  \n",
       "3                  50.0                  0.0                1  \n",
       "4                  67.0                 33.0                1  \n",
       "5                   0.0                  0.0                0  "
      ]
     },
     "execution_count": 7,
     "metadata": {},
     "output_type": "execute_result"
    }
   ],
   "source": [
    "sample['polarity'] = round(sample.reviews.apply(detect_polarity),1)\n",
    "sample['subjectivity'] = round(sample.reviews.apply(detect_subjectivity),1)\n",
    "sample['sentiment'] = sample['polarity'].apply(filter_method)\n",
    "sample['sentence_sentiment'] = sample.reviews.apply(detect_sentence_polarity)\n",
    "sample['lemma'] = sample.reviews.apply(get_lemma)\n",
    "sample['#positive_sentences']= sentence_count(sample['reviews'], 'positive')\n",
    "sample['#neutral_sentences']= sentence_count(sample['reviews'], 'neutral')\n",
    "sample['#negative_sentences'] = sentence_count(sample['reviews'], 'negative')\n",
    "sample['% positive_sentences'] = calc_percentage(sample['reviews'], 'positive')\n",
    "sample['% negative_sentences'] = calc_percentage(sample['reviews'], 'negative')\n",
    "sample['% neutral_sentences'] = calc_percentage(sample['reviews'], 'neutral')\n",
    "sample['negation_or_not'] = negative_boolean(sample['reviews'])\n",
    "sample.head(6)"
   ]
  },
  {
   "cell_type": "markdown",
   "metadata": {},
   "source": [
    "Polarity is float which lies within range of [-1,1]. Values closer to 1 have a highly positive sentiment and values closer to -1 have highly negative sentiment. Values closer to 0 on the either sides shows slighty positive and negative indication.\n",
    "\n",
    "Similarly, subjective sentences refer to personal opinion, emotion or judgement whereas objective refers to facts. Subjectivity is also a float which lies in the range of [0,1]"
   ]
  },
  {
   "cell_type": "code",
   "execution_count": 8,
   "metadata": {},
   "outputs": [
    {
     "data": {
      "text/plain": [
       "Highly Positive    4\n",
       "Fairly Negative    2\n",
       "Name: sentiment, dtype: int64"
      ]
     },
     "execution_count": 8,
     "metadata": {},
     "output_type": "execute_result"
    }
   ],
   "source": [
    "sample.sentiment.value_counts()"
   ]
  },
  {
   "cell_type": "markdown",
   "metadata": {},
   "source": [
    "num_bins = 50\n",
    "plt.figure(figsize=(10,6))\n",
    "n, bins, patches = plt.hist(sample.sentiment, num_bins, facecolor='blue', alpha=0.5)\n",
    "plt.xlabel('Polarity')\n",
    "plt.ylabel('Count')\n",
    "plt.title('Histogram of polarity')\n",
    "plt.show()"
   ]
  },
  {
   "cell_type": "code",
   "execution_count": 9,
   "metadata": {},
   "outputs": [
    {
     "data": {
      "image/png": "[encoded data removed]",
      "text/plain": [
       "<Figure size 432x288 with 1 Axes>"
      ]
     },
     "metadata": {
      "needs_background": "light"
     },
     "output_type": "display_data"
    }
   ],
   "source": [
    "sns.countplot(x='sentiment', data=sample);"
   ]
  },
  {
   "cell_type": "code",
   "execution_count": null,
   "metadata": {},
   "outputs": [],
   "source": []
  },
  {
   "cell_type": "code",
   "execution_count": null,
   "metadata": {},
   "outputs": [],
   "source": []
  },
  {
   "cell_type": "code",
   "execution_count": null,
   "metadata": {},
   "outputs": [],
   "source": []
  }
 ],
 "metadata": {
  "kernelspec": {
   "display_name": "Python 3",
   "language": "python",
   "name": "python3"
  },
  "language_info": {
   "codemirror_mode": {
    "name": "ipython",
    "version": 3
   },
   "file_extension": ".py",
   "mimetype": "text/x-python",
   "name": "python",
   "nbconvert_exporter": "python",
   "pygments_lexer": "ipython3",
   "version": "3.7.3"
  }
 },
 "nbformat": 4,
 "nbformat_minor": 2
}
